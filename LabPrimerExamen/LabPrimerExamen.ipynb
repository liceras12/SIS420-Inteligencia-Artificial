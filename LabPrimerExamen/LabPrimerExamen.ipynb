{
  "nbformat": 4,
  "nbformat_minor": 0,
  "metadata": {
    "colab": {
      "provenance": []
    },
    "kernelspec": {
      "name": "python3",
      "display_name": "Python 3"
    },
    "language_info": {
      "name": "python"
    }
  },
  "cells": [
    {
      "cell_type": "markdown",
      "source": [
        "Primer examen de Laboratorio"
      ],
      "metadata": {
        "id": "KYruKI1xKRPB"
      }
    },
    {
      "cell_type": "code",
      "execution_count": 20,
      "metadata": {
        "colab": {
          "base_uri": "https://localhost:8080/"
        },
        "id": "m8m50AnizT3l",
        "outputId": "271b263d-14dd-4894-8284-e7b397246a58"
      },
      "outputs": [
        {
          "output_type": "stream",
          "name": "stdout",
          "text": [
            "Drive already mounted at /content/drive; to attempt to forcibly remount, call drive.mount(\"/content/drive\", force_remount=True).\n"
          ]
        }
      ],
      "source": [
        "from google.colab import drive\n",
        "drive.mount('/content/drive')"
      ]
    },
    {
      "cell_type": "code",
      "source": [
        "import os\n",
        "\n",
        "import numpy as np\n",
        "\n",
        "from matplotlib import pyplot\n",
        "\n",
        "from scipy import optimize\n",
        "\n",
        "from sklearn.model_selection import train_test_split\n",
        "\n",
        "%matplotlib inline\n",
        "\n",
        "import pandas as pd\n",
        "import sklearn as skl\n",
        "\n",
        "from sklearn.preprocessing import StandardScaler"
      ],
      "metadata": {
        "id": "kXi_sV3F0Tod"
      },
      "execution_count": 21,
      "outputs": []
    },
    {
      "cell_type": "code",
      "source": [
        "url = \"/content/drive/MyDrive/Colab Notebooks/Datasets/train_dataset.csv\"\n",
        "dataframe = pd.read_csv(url)\n",
        "\n",
        "print(dataframe)\n",
        "x = dataframe.iloc[:, 0:21].values\n",
        "y = dataframe.iloc[:, 22].values"
      ],
      "metadata": {
        "colab": {
          "base_uri": "https://localhost:8080/"
        },
        "id": "0AfGhpTx1nSM",
        "outputId": "0327202c-28ec-4bdd-ee68-18cb1254722a"
      },
      "execution_count": 22,
      "outputs": [
        {
          "output_type": "stream",
          "name": "stdout",
          "text": [
            "       age  height(cm)  weight(kg)  waist(cm)  eyesight(left)  \\\n",
            "0       35         170          85       97.0             0.9   \n",
            "1       20         175         110      110.0             0.7   \n",
            "2       45         155          65       86.0             0.9   \n",
            "3       45         165          80       94.0             0.8   \n",
            "4       20         165          60       81.0             1.5   \n",
            "...    ...         ...         ...        ...             ...   \n",
            "38979   40         165          60       80.0             0.4   \n",
            "38980   45         155          55       75.0             1.5   \n",
            "38981   40         170         105      124.0             0.6   \n",
            "38982   40         160          55       75.0             1.5   \n",
            "38983   55         175          60       81.1             1.0   \n",
            "\n",
            "       eyesight(right)  hearing(left)  hearing(right)  systolic  relaxation  \\\n",
            "0                  0.9              1               1       118          78   \n",
            "1                  0.9              1               1       119          79   \n",
            "2                  0.9              1               1       110          80   \n",
            "3                  0.7              1               1       158          88   \n",
            "4                  0.1              1               1       109          64   \n",
            "...                ...            ...             ...       ...         ...   \n",
            "38979              0.6              1               1       107          60   \n",
            "38980              1.2              1               1       126          72   \n",
            "38981              0.5              1               1       141          85   \n",
            "38982              1.5              1               1        95          69   \n",
            "38983              1.0              1               1       114          66   \n",
            "\n",
            "       ...  HDL  LDL  hemoglobin  Urine protein  serum creatinine   AST   ALT  \\\n",
            "0      ...   70  142        19.8              1               1.0    61   115   \n",
            "1      ...   71  114        15.9              1               1.1    19    25   \n",
            "2      ...   57  112        13.7              3               0.6  1090  1400   \n",
            "3      ...   46   91        16.9              1               0.9    32    36   \n",
            "4      ...   47   92        14.9              1               1.2    26    28   \n",
            "...    ...  ...  ...         ...            ...               ...   ...   ...   \n",
            "38979  ...   61   72        12.3              1               0.5    18    18   \n",
            "38980  ...   76  131        12.5              2               0.6    23    11   \n",
            "38981  ...   48  138        17.1              1               0.8    24    23   \n",
            "38982  ...   79  116        12.0              1               0.6    24    20   \n",
            "38983  ...   64  137        13.9              1               1.0    18    12   \n",
            "\n",
            "       Gtp  dental caries  smoking  \n",
            "0      125              1        1  \n",
            "1       30              1        0  \n",
            "2      276              0        0  \n",
            "3       36              0        0  \n",
            "4       15              0        0  \n",
            "...    ...            ...      ...  \n",
            "38979   21              1        0  \n",
            "38980   12              0        0  \n",
            "38981   35              1        1  \n",
            "38982   17              0        1  \n",
            "38983   16              0        1  \n",
            "\n",
            "[38984 rows x 23 columns]\n"
          ]
        }
      ]
    },
    {
      "cell_type": "code",
      "source": [
        "print(x)\n",
        "print(y)"
      ],
      "metadata": {
        "colab": {
          "base_uri": "https://localhost:8080/"
        },
        "id": "mNBPcRTAAy7N",
        "outputId": "d058ecb7-2719-4401-80f5-72f4a4c4dd7c"
      },
      "execution_count": 23,
      "outputs": [
        {
          "output_type": "stream",
          "name": "stdout",
          "text": [
            "[[  35.  170.   85. ...   61.  115.  125.]\n",
            " [  20.  175.  110. ...   19.   25.   30.]\n",
            " [  45.  155.   65. ... 1090. 1400.  276.]\n",
            " ...\n",
            " [  40.  170.  105. ...   24.   23.   35.]\n",
            " [  40.  160.   55. ...   24.   20.   17.]\n",
            " [  55.  175.   60. ...   18.   12.   16.]]\n",
            "[1 0 0 ... 1 1 1]\n"
          ]
        }
      ]
    },
    {
      "cell_type": "code",
      "source": [
        "def sigmoid(z):\n",
        "    return 1 / (1 + np.exp(-z))"
      ],
      "metadata": {
        "id": "sHk9VnyJCDDt"
      },
      "execution_count": 24,
      "outputs": []
    },
    {
      "cell_type": "code",
      "source": [
        "def calculate_cost(theta, X, y):\n",
        "    m = len(y)\n",
        "    h = sigmoid(X.dot(theta))\n",
        "    cost = (1/m) * (-y.T.dot(np.log(h)) - (1 - y).T.dot(np.log(1 - h)))\n",
        "    return cost"
      ],
      "metadata": {
        "id": "Myf0V5CrCFxd"
      },
      "execution_count": 25,
      "outputs": []
    },
    {
      "cell_type": "code",
      "source": [
        "def gradient(theta, X, y):\n",
        "    m = len(y)\n",
        "    h = sigmoid(X.dot(theta))\n",
        "    grad = (1/m) * np.dot(X.T, (h - y))\n",
        "    return grad"
      ],
      "metadata": {
        "id": "FdPp3XXNCH0o"
      },
      "execution_count": 26,
      "outputs": []
    },
    {
      "cell_type": "code",
      "source": [
        "def gradient_descent(X, y, theta, alpha, num_iters):\n",
        "    m = len(y)\n",
        "    J_history = []\n",
        "    for i in range(num_iters):\n",
        "        theta -= alpha * gradient(theta, X, y)\n",
        "        J_history.append(calculate_cost(theta, X, y))\n",
        "    return theta, J_history"
      ],
      "metadata": {
        "id": "ZGWdLCbBCHzW"
      },
      "execution_count": 27,
      "outputs": []
    },
    {
      "cell_type": "code",
      "source": [
        "def feature_normalize(X):\n",
        "    X_norm = X.copy()\n",
        "    mu = np.mean(X, axis=0)\n",
        "    sigma = np.std(X, axis=0)\n",
        "    X_norm = (X - mu) / sigma\n",
        "    return X_norm, mu, sigma"
      ],
      "metadata": {
        "id": "uVq3n6GtCKql"
      },
      "execution_count": 28,
      "outputs": []
    },
    {
      "cell_type": "code",
      "source": [
        "X_train, X_test, y_train, y_test = train_test_split(x, y, test_size=0.2, random_state=42)"
      ],
      "metadata": {
        "id": "DcAPM9b7CpKF"
      },
      "execution_count": 29,
      "outputs": []
    },
    {
      "cell_type": "code",
      "source": [
        "scaler = StandardScaler()\n",
        "X_train_norm = scaler.fit_transform(X_train)\n",
        "X_test_norm = scaler.transform(X_test)"
      ],
      "metadata": {
        "id": "dCkDrWThC_p9"
      },
      "execution_count": 30,
      "outputs": []
    },
    {
      "cell_type": "code",
      "source": [
        "X_train_norm = np.c_[np.ones((X_train_norm.shape[0], 1)), X_train_norm]\n",
        "X_test_norm = np.c_[np.ones((X_test_norm.shape[0], 1)), X_test_norm]"
      ],
      "metadata": {
        "id": "WF1tZUPvDCGt"
      },
      "execution_count": 31,
      "outputs": []
    },
    {
      "cell_type": "code",
      "source": [
        "alpha = 0.01\n",
        "num_iters = 5000"
      ],
      "metadata": {
        "id": "-3DUrSv6DEFl"
      },
      "execution_count": 38,
      "outputs": []
    },
    {
      "cell_type": "code",
      "source": [
        "theta = np.zeros(X_train_norm.shape[1])"
      ],
      "metadata": {
        "id": "1a6beoleDF0u"
      },
      "execution_count": 39,
      "outputs": []
    },
    {
      "cell_type": "code",
      "source": [
        "theta, J_history = gradient_descent(X_train_norm, y_train, theta, alpha, num_iters)"
      ],
      "metadata": {
        "id": "Do8HikGRDHl3"
      },
      "execution_count": 40,
      "outputs": []
    },
    {
      "cell_type": "code",
      "source": [
        "predictions = sigmoid(np.dot(X_test_norm, theta))\n",
        "predictions[predictions >= 0.5] = 1\n",
        "predictions[predictions < 0.5] = 0\n",
        "accuracy = np.mean(predictions == y_test)\n",
        "print(\"Precisión del modelo:\", accuracy)"
      ],
      "metadata": {
        "colab": {
          "base_uri": "https://localhost:8080/"
        },
        "id": "hxwT6LETDJ19",
        "outputId": "57b74b67-6293-4d47-d81d-ecfb8ac8f707"
      },
      "execution_count": 41,
      "outputs": [
        {
          "output_type": "stream",
          "name": "stdout",
          "text": [
            "Precisión del modelo: 0.720790047454149\n"
          ]
        }
      ]
    },
    {
      "cell_type": "code",
      "source": [
        "pyplot.plot(range(num_iters), J_history)\n",
        "pyplot.xlabel('Número de Iteraciones')\n",
        "pyplot.ylabel('Costo')\n",
        "pyplot.title('Convergencia del Gradiente Descendente')\n",
        "pyplot.show()\n",
        "print('theta calculado por el descenso por el gradiente: {:s}'.format(str(theta)))"
      ],
      "metadata": {
        "colab": {
          "base_uri": "https://localhost:8080/",
          "height": 541
        },
        "id": "YE2qBgUlDKhV",
        "outputId": "78d0ad42-7982-4032-bcb0-83455ae85051"
      },
      "execution_count": 42,
      "outputs": [
        {
          "output_type": "display_data",
          "data": {
            "text/plain": [
              "<Figure size 640x480 with 1 Axes>"
            ],
            "image/png": "[encoded data removed]"
          },
          "metadata": {}
        },
        {
          "output_type": "stream",
          "name": "stdout",
          "text": [
            "theta calculado por el descenso por el gradiente: [-0.75698984  0.00580561  0.68996791 -0.15503958 -0.00726035 -0.00441449\n",
            "  0.01270856 -0.01518035  0.01918592 -0.11191167  0.02186736  0.0910393\n",
            " -0.13512591  0.30993156 -0.07347193 -0.03536846  0.68259487 -0.02485887\n",
            "  0.05565065 -0.04562464 -0.16280367  0.48988444]\n"
          ]
        }
      ]
    },
    {
      "cell_type": "code",
      "source": [
        "print(X_test)\n",
        "print(theta)"
      ],
      "metadata": {
        "colab": {
          "base_uri": "https://localhost:8080/"
        },
        "id": "F-jJsn5NDO6F",
        "outputId": "496be2f8-cce4-4385-ec94-b0da87bc27e8"
      },
      "execution_count": 43,
      "outputs": [
        {
          "output_type": "stream",
          "name": "stdout",
          "text": [
            "[[ 25. 175.  80. ...  32.  38.  14.]\n",
            " [ 55. 170.  65. ...  28.  21.  15.]\n",
            " [ 50. 170.  70. ...  31.  34.  98.]\n",
            " ...\n",
            " [ 30. 170.  75. ...  16.  17.  37.]\n",
            " [ 40. 170.  55. ...  20.  16.  29.]\n",
            " [ 40. 160.  50. ...  15.  15.  33.]]\n",
            "[-0.75698984  0.00580561  0.68996791 -0.15503958 -0.00726035 -0.00441449\n",
            "  0.01270856 -0.01518035  0.01918592 -0.11191167  0.02186736  0.0910393\n",
            " -0.13512591  0.30993156 -0.07347193 -0.03536846  0.68259487 -0.02485887\n",
            "  0.05565065 -0.04562464 -0.16280367  0.48988444]\n"
          ]
        }
      ]
    },
    {
      "cell_type": "code",
      "source": [
        "from sklearn.svm import SVC\n",
        "\n",
        "classifier =  SVC()\n",
        "\n",
        "classifier.fit(X_train, y_train)\n",
        "\n",
        "print(classifier.score(X_test, y_test))"
      ],
      "metadata": {
        "colab": {
          "base_uri": "https://localhost:8080/"
        },
        "id": "R9P6K2Z4FY6H",
        "outputId": "d5a026a9-4c9c-4903-d731-2e13af0de98d"
      },
      "execution_count": 44,
      "outputs": [
        {
          "output_type": "stream",
          "name": "stdout",
          "text": [
            "0.7318199307425933\n"
          ]
        }
      ]
    }
  ]
}