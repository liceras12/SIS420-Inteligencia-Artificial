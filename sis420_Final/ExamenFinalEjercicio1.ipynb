{
  "nbformat": 4,
  "nbformat_minor": 0,
  "metadata": {
    "colab": {
      "provenance": []
    },
    "kernelspec": {
      "name": "python3",
      "display_name": "Python 3"
    },
    "language_info": {
      "name": "python"
    }
  },
  "cells": [
    {
      "cell_type": "code",
      "execution_count": 1,
      "metadata": {
        "id": "csoulerWLXxP",
        "colab": {
          "base_uri": "https://localhost:8080/"
        },
        "outputId": "bdd78e83-c1eb-4364-8025-e999291bb1d2"
      },
      "outputs": [
        {
          "output_type": "stream",
          "name": "stdout",
          "text": [
            "Mounted at /content/gdrive\n"
          ]
        }
      ],
      "source": [
        "from google.colab import drive\n",
        "drive.mount(\"/content/gdrive\")"
      ]
    },
    {
      "cell_type": "code",
      "source": [
        "import os\n",
        "import numpy as np\n",
        "import pandas as pd\n",
        "import matplotlib.pyplot as plt\n",
        "from sklearn.model_selection import train_test_split\n",
        "from sklearn.preprocessing import StandardScaler\n",
        "from sklearn.cluster import KMeans\n",
        "from sklearn.metrics import silhouette_score"
      ],
      "metadata": {
        "id": "_4c-EQCwLgXh"
      },
      "execution_count": 2,
      "outputs": []
    },
    {
      "cell_type": "code",
      "source": [
        "file_path = \"/content/gdrive/MyDrive/Colab Notebooks/Datasets/dataset_6.csv\""
      ],
      "metadata": {
        "id": "qGdvOOu-LhQA"
      },
      "execution_count": 3,
      "outputs": []
    },
    {
      "cell_type": "code",
      "source": [
        "if os.path.exists(file_path):\n",
        "    print(\"Google Drive conectado correctamente.\")\n",
        "else:\n",
        "    raise FileNotFoundError(\"No se encontró el archivo. Verifica la ruta del archivo en Google Drive.\")"
      ],
      "metadata": {
        "id": "s3yCk-8IMEBJ",
        "colab": {
          "base_uri": "https://localhost:8080/"
        },
        "outputId": "b664d175-72fb-4141-e1e6-2f2521c144f9"
      },
      "execution_count": 4,
      "outputs": [
        {
          "output_type": "stream",
          "name": "stdout",
          "text": [
            "Google Drive conectado correctamente.\n"
          ]
        }
      ]
    },
    {
      "cell_type": "code",
      "source": [
        "dataframe = pd.read_csv(file_path, skiprows=0)\n",
        "print(\"Dataset cargado correctamente.\")\n",
        "print(dataframe.head())"
      ],
      "metadata": {
        "id": "THTug1rmRyAY",
        "colab": {
          "base_uri": "https://localhost:8080/"
        },
        "outputId": "ba65d3d2-741a-4f24-ea75-73fc32c22a1b"
      },
      "execution_count": 5,
      "outputs": [
        {
          "output_type": "stream",
          "name": "stdout",
          "text": [
            "Dataset cargado correctamente.\n",
            "     0    1    2    3    4    5    6    7    8    9  ...  3062  3063  3064  \\\n",
            "0  108  245  109  108  245  109  108  245  109  108  ...   255   255   255   \n",
            "1  255  255  255   28  114  186  255  255  255  255  ...   255   255   255   \n",
            "2  189   74  225  189   74  225  189   74  225  189  ...   255   255   255   \n",
            "3  130  184  210  130  184  210  130  184  210  130  ...   255   255   255   \n",
            "4  255  255  255  255  255  255  255  255  255  255  ...   255   255   255   \n",
            "\n",
            "   3065  3066  3067  3068  3069  3070  3071  \n",
            "0   255   255   255   255   255   255   255  \n",
            "1   255   255   255   255   255   255   255  \n",
            "2   255   255   255   255   255   255   255  \n",
            "3   255   255   255   255   255   255   255  \n",
            "4   255   255   255   255   255   255   255  \n",
            "\n",
            "[5 rows x 3072 columns]\n"
          ]
        }
      ]
    },
    {
      "cell_type": "code",
      "source": [
        "print(f\"Forma del dataframe: {dataframe.shape}\")"
      ],
      "metadata": {
        "id": "Oc_O7tqdMGgR",
        "colab": {
          "base_uri": "https://localhost:8080/"
        },
        "outputId": "f5ffd379-150b-424b-c45f-a5ef7072f756"
      },
      "execution_count": 6,
      "outputs": [
        {
          "output_type": "stream",
          "name": "stdout",
          "text": [
            "Forma del dataframe: (50000, 3072)\n"
          ]
        }
      ]
    },
    {
      "cell_type": "code",
      "source": [
        "X = dataframe.iloc[:, :].values  # Todas las columnas menos la última\n",
        "y = dataframe.iloc[:, ].values"
      ],
      "metadata": {
        "id": "lOfLv5tkTRqo"
      },
      "execution_count": 7,
      "outputs": []
    },
    {
      "cell_type": "code",
      "source": [
        "X = X/255.0\n",
        "print(X.shape)"
      ],
      "metadata": {
        "id": "vH4nSI_lTa3A",
        "colab": {
          "base_uri": "https://localhost:8080/"
        },
        "outputId": "e83eb442-d49d-4019-bc17-b03a1cc88aae"
      },
      "execution_count": 8,
      "outputs": [
        {
          "output_type": "stream",
          "name": "stdout",
          "text": [
            "(50000, 3072)\n"
          ]
        }
      ]
    },
    {
      "cell_type": "code",
      "source": [
        "X = X.reshape((-1, 32, 32, 3))"
      ],
      "metadata": {
        "id": "1_TyNYypTbeB"
      },
      "execution_count": 11,
      "outputs": []
    },
    {
      "cell_type": "code",
      "source": [
        "print(f\"Forma de X después del reshape: {X.shape}\")"
      ],
      "metadata": {
        "colab": {
          "base_uri": "https://localhost:8080/"
        },
        "id": "vIAhAIhofs9f",
        "outputId": "49ac4ba0-7b81-4de2-f2cc-83a1744a2fe5"
      },
      "execution_count": 12,
      "outputs": [
        {
          "output_type": "stream",
          "name": "stdout",
          "text": [
            "Forma de X después del reshape: (50000, 32, 32, 3)\n"
          ]
        }
      ]
    },
    {
      "cell_type": "code",
      "source": [
        "train_size = int(0.6 * len(dataframe))\n",
        "X_train, X_test = X[:train_size], X[train_size:]\n",
        "y_train, y_test = y[:train_size], y[train_size:]"
      ],
      "metadata": {
        "id": "l26elaF7Tlmn"
      },
      "execution_count": 13,
      "outputs": []
    },
    {
      "cell_type": "code",
      "source": [
        "X_train_flat = X_train.reshape((X_train.shape[0], -1))\n",
        "X_test_flat = X_test.reshape((X_test.shape[0], -1))"
      ],
      "metadata": {
        "id": "yc9Dr3KwTqEn"
      },
      "execution_count": 14,
      "outputs": []
    },
    {
      "cell_type": "markdown",
      "source": [
        "De este punto en adelante no termino de cargar en ninguna ocasion, este proceso es demasiado pesado pese a haber reducido el x_train_flat al 60%"
      ],
      "metadata": {
        "id": "HQu3ZwN_kIwn"
      }
    },
    {
      "cell_type": "code",
      "source": [
        "inertia = []\n",
        "silhouette_scores = []\n",
        "K = range(2, 20)\n",
        "for k in K:\n",
        "    kmeans = KMeans(n_clusters=k, random_state=42)\n",
        "    kmeans.fit(X_train_flat)\n",
        "    inertia.append(kmeans.inertia_)\n",
        "    silhouette_scores.append(silhouette_score(X_train_flat, kmeans.labels_))"
      ],
      "metadata": {
        "colab": {
          "base_uri": "https://localhost:8080/"
        },
        "id": "smrI9AbNVy4I",
        "outputId": "53f913a8-bc31-41f6-c72f-7359670b1155"
      },
      "execution_count": null,
      "outputs": [
        {
          "metadata": {
            "tags": null
          },
          "name": "stderr",
          "output_type": "stream",
          "text": [
            "/usr/local/lib/python3.10/dist-packages/sklearn/cluster/_kmeans.py:870: FutureWarning: The default value of `n_init` will change from 10 to 'auto' in 1.4. Set the value of `n_init` explicitly to suppress the warning\n",
            "  warnings.warn(\n",
            "/usr/local/lib/python3.10/dist-packages/sklearn/cluster/_kmeans.py:870: FutureWarning: The default value of `n_init` will change from 10 to 'auto' in 1.4. Set the value of `n_init` explicitly to suppress the warning\n",
            "  warnings.warn(\n",
            "/usr/local/lib/python3.10/dist-packages/sklearn/cluster/_kmeans.py:870: FutureWarning: The default value of `n_init` will change from 10 to 'auto' in 1.4. Set the value of `n_init` explicitly to suppress the warning\n",
            "  warnings.warn(\n",
            "/usr/local/lib/python3.10/dist-packages/sklearn/cluster/_kmeans.py:870: FutureWarning: The default value of `n_init` will change from 10 to 'auto' in 1.4. Set the value of `n_init` explicitly to suppress the warning\n",
            "  warnings.warn(\n",
            "/usr/local/lib/python3.10/dist-packages/sklearn/cluster/_kmeans.py:870: FutureWarning: The default value of `n_init` will change from 10 to 'auto' in 1.4. Set the value of `n_init` explicitly to suppress the warning\n",
            "  warnings.warn(\n",
            "/usr/local/lib/python3.10/dist-packages/sklearn/cluster/_kmeans.py:870: FutureWarning: The default value of `n_init` will change from 10 to 'auto' in 1.4. Set the value of `n_init` explicitly to suppress the warning\n",
            "  warnings.warn(\n"
          ]
        }
      ]
    },
    {
      "cell_type": "code",
      "source": [
        "plt.figure(figsize=(16, 8))\n",
        "plt.subplot(1, 2, 1)\n",
        "plt.plot(K, inertia, 'bo-')\n",
        "plt.xlabel('Número de clusters')\n",
        "plt.ylabel('Inercia')\n",
        "plt.title('Método del codo')"
      ],
      "metadata": {
        "id": "-8rhrkH1V1Df"
      },
      "execution_count": null,
      "outputs": []
    },
    {
      "cell_type": "code",
      "source": [
        "plt.subplot(1, 2, 2)\n",
        "plt.plot(K, silhouette_scores, 'bo-')\n",
        "plt.xlabel('Número de clusters')\n",
        "plt.ylabel('Índice de silueta')\n",
        "plt.title('Índice de silueta')"
      ],
      "metadata": {
        "id": "0WQpKoX3V3GY"
      },
      "execution_count": null,
      "outputs": []
    },
    {
      "cell_type": "code",
      "source": [
        "plt.show()"
      ],
      "metadata": {
        "id": "pJRaNW4eV4qQ"
      },
      "execution_count": null,
      "outputs": []
    },
    {
      "cell_type": "code",
      "source": [
        "n_clusters = 10\n",
        "kmeans = KMeans(n_clusters=n_clusters, random_state=42)\n",
        "y_train_clusters = kmeans.fit_predict(X_train_flat)"
      ],
      "metadata": {
        "id": "nX_--2iAV6rh"
      },
      "execution_count": null,
      "outputs": []
    },
    {
      "cell_type": "code",
      "source": [
        "y_test_clusters = kmeans.predict(X_test_flat)"
      ],
      "metadata": {
        "id": "IsJ_Hr6bV823"
      },
      "execution_count": null,
      "outputs": []
    },
    {
      "cell_type": "code",
      "source": [
        "def accuracy(y_true, y_pred):\n",
        "    return np.sum(y_true == y_pred) / len(y_true)"
      ],
      "metadata": {
        "id": "XVdD_lUCV-zA"
      },
      "execution_count": null,
      "outputs": []
    },
    {
      "cell_type": "code",
      "source": [
        "test_acc = accuracy(y_test, y_test_clusters)\n",
        "print(f'Test accuracy: {test_acc}')"
      ],
      "metadata": {
        "id": "UOKlP0sDWDn3"
      },
      "execution_count": null,
      "outputs": []
    },
    {
      "cell_type": "code",
      "source": [
        "def classify_image(image):\n",
        "    image = image.astype('float32') / 255.0\n",
        "    image_flat = image.reshape((1, -1))\n",
        "    cluster_label = kmeans.predict(image_flat)\n",
        "    return cluster_label"
      ],
      "metadata": {
        "id": "_oV-q95EWFei"
      },
      "execution_count": null,
      "outputs": []
    },
    {
      "cell_type": "code",
      "source": [
        "new_image = X_test[0]  # Ejemplo de una imagen del conjunto de prueba\n",
        "cluster_label = classify_image(new_image)\n",
        "print(f'La imagen pertenece al cluster: {cluster_label}')"
      ],
      "metadata": {
        "id": "-qYI7Y8YWHDW"
      },
      "execution_count": null,
      "outputs": []
    }
  ]
}