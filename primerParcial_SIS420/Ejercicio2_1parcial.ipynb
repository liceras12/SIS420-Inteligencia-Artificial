{
  "nbformat": 4,
  "nbformat_minor": 0,
  "metadata": {
    "colab": {
      "provenance": []
    },
    "kernelspec": {
      "name": "python3",
      "display_name": "Python 3"
    },
    "language_info": {
      "name": "python"
    }
  },
  "cells": [
    {
      "cell_type": "code",
      "execution_count": 5,
      "metadata": {
        "colab": {
          "base_uri": "https://localhost:8080/"
        },
        "id": "m8m50AnizT3l",
        "outputId": "a5b1d800-f828-4d4b-c6f2-21bbbe167bc3"
      },
      "outputs": [
        {
          "output_type": "stream",
          "name": "stdout",
          "text": [
            "Drive already mounted at /content/drive; to attempt to forcibly remount, call drive.mount(\"/content/drive\", force_remount=True).\n"
          ]
        }
      ],
      "source": [
        "from google.colab import drive\n",
        "drive.mount('/content/drive')"
      ]
    },
    {
      "cell_type": "code",
      "source": [
        "import os\n",
        "\n",
        "import numpy as np\n",
        "\n",
        "from matplotlib import pyplot\n",
        "\n",
        "from scipy import optimize\n",
        "\n",
        "from sklearn.model_selection import train_test_split\n",
        "\n",
        "%matplotlib inline\n",
        "\n",
        "import pandas as pd\n",
        "import sklearn as skl\n",
        "\n",
        "from sklearn.preprocessing import StandardScaler"
      ],
      "metadata": {
        "id": "kXi_sV3F0Tod"
      },
      "execution_count": 6,
      "outputs": []
    },
    {
      "cell_type": "code",
      "source": [
        "url = \"/content/drive/MyDrive/Colab Notebooks/Datasets/heart_disease_health_indicators.csv\"\n",
        "dataframe = pd.read_csv(url)\n",
        "\n",
        "print(dataframe)\n",
        "x = dataframe.iloc[:, 1:].values\n",
        "y = dataframe.iloc[:, 0].values"
      ],
      "metadata": {
        "colab": {
          "base_uri": "https://localhost:8080/"
        },
        "id": "0AfGhpTx1nSM",
        "outputId": "427cc427-0645-4e6c-e4d2-966541b851b7"
      },
      "execution_count": 7,
      "outputs": [
        {
          "output_type": "stream",
          "name": "stdout",
          "text": [
            "        HeartDiseaseorAttack  HighBP  HighChol  CholCheck  BMI  Smoker  \\\n",
            "0                          0       1         1          1   40       1   \n",
            "1                          0       0         0          0   25       1   \n",
            "2                          0       1         1          1   28       0   \n",
            "3                          0       1         0          1   27       0   \n",
            "4                          0       1         1          1   24       0   \n",
            "...                      ...     ...       ...        ...  ...     ...   \n",
            "253656                     0       0         0          1   25       0   \n",
            "253657                     0       0         1          1   24       0   \n",
            "253658                     0       0         0          0   27       0   \n",
            "253659                     0       0         1          1   37       0   \n",
            "253660                     0       0         1          1   34       1   \n",
            "\n",
            "        Stroke  Diabetes  PhysActivity  Fruits  ...  AnyHealthcare  \\\n",
            "0            0         0             0       0  ...              1   \n",
            "1            0         0             1       0  ...              0   \n",
            "2            0         0             0       1  ...              1   \n",
            "3            0         0             1       1  ...              1   \n",
            "4            0         0             1       1  ...              1   \n",
            "...        ...       ...           ...     ...  ...            ...   \n",
            "253656       0         0             1       1  ...              1   \n",
            "253657       0         0             0       0  ...              1   \n",
            "253658       0         0             1       0  ...              1   \n",
            "253659       0         2             0       0  ...              1   \n",
            "253660       0         0             0       1  ...              1   \n",
            "\n",
            "        NoDocbcCost  GenHlth  MentHlth  PhysHlth  DiffWalk  Sex  Age  \\\n",
            "0                 0        5        18        15         1    0    9   \n",
            "1                 1        3         0         0         0    0    7   \n",
            "2                 1        5        30        30         1    0    9   \n",
            "3                 0        2         0         0         0    0   11   \n",
            "4                 0        2         3         0         0    0   11   \n",
            "...             ...      ...       ...       ...       ...  ...  ...   \n",
            "253656            0        1         0         0         0    0    4   \n",
            "253657            0        3         0         0         0    0    7   \n",
            "253658            1        2         0         0         0    0    3   \n",
            "253659            0        4         0         0         0    0    6   \n",
            "253660            0        3         0         2         1    0    7   \n",
            "\n",
            "        Education  Income  \n",
            "0               4       3  \n",
            "1               6       1  \n",
            "2               4       8  \n",
            "3               3       6  \n",
            "4               5       4  \n",
            "...           ...     ...  \n",
            "253656          6       8  \n",
            "253657          5       3  \n",
            "253658          6       5  \n",
            "253659          4       1  \n",
            "253660          4       3  \n",
            "\n",
            "[253661 rows x 22 columns]\n"
          ]
        }
      ]
    },
    {
      "cell_type": "code",
      "source": [
        "print(x)\n",
        "print(y)"
      ],
      "metadata": {
        "colab": {
          "base_uri": "https://localhost:8080/"
        },
        "id": "mNBPcRTAAy7N",
        "outputId": "7fc68231-1d7f-40cb-f498-874212fe5a72"
      },
      "execution_count": 8,
      "outputs": [
        {
          "output_type": "stream",
          "name": "stdout",
          "text": [
            "[[1 1 1 ... 9 4 3]\n",
            " [0 0 0 ... 7 6 1]\n",
            " [1 1 1 ... 9 4 8]\n",
            " ...\n",
            " [0 0 0 ... 3 6 5]\n",
            " [0 1 1 ... 6 4 1]\n",
            " [0 1 1 ... 7 4 3]]\n",
            "[0 0 0 ... 0 0 0]\n"
          ]
        }
      ]
    },
    {
      "cell_type": "code",
      "source": [
        "def sigmoid(z):\n",
        "    return 1 / (1 + np.exp(-z))"
      ],
      "metadata": {
        "id": "sHk9VnyJCDDt"
      },
      "execution_count": 9,
      "outputs": []
    },
    {
      "cell_type": "code",
      "source": [
        "def calculate_cost(theta, X, y):\n",
        "    m = len(y)\n",
        "    h = sigmoid(X.dot(theta))\n",
        "    cost = (1/m) * (-y.T.dot(np.log(h)) - (1 - y).T.dot(np.log(1 - h)))\n",
        "    return cost"
      ],
      "metadata": {
        "id": "Myf0V5CrCFxd"
      },
      "execution_count": 10,
      "outputs": []
    },
    {
      "cell_type": "code",
      "source": [
        "def gradient(theta, X, y):\n",
        "    m = len(y)\n",
        "    h = sigmoid(X.dot(theta))\n",
        "    grad = (1/m) * np.dot(X.T, (h - y))\n",
        "    return grad"
      ],
      "metadata": {
        "id": "FdPp3XXNCH0o"
      },
      "execution_count": 11,
      "outputs": []
    },
    {
      "cell_type": "code",
      "source": [
        "def gradient_descent(X, y, theta, alpha, num_iters):\n",
        "    m = len(y)\n",
        "    J_history = []\n",
        "    for i in range(num_iters):\n",
        "        theta -= alpha * gradient(theta, X, y)\n",
        "        J_history.append(calculate_cost(theta, X, y))\n",
        "    return theta, J_history"
      ],
      "metadata": {
        "id": "ZGWdLCbBCHzW"
      },
      "execution_count": 12,
      "outputs": []
    },
    {
      "cell_type": "code",
      "source": [
        "def feature_normalize(X):\n",
        "    X_norm = X.copy()\n",
        "    mu = np.mean(X, axis=0)\n",
        "    sigma = np.std(X, axis=0)\n",
        "    X_norm = (X - mu) / sigma\n",
        "    return X_norm, mu, sigma"
      ],
      "metadata": {
        "id": "uVq3n6GtCKql"
      },
      "execution_count": 13,
      "outputs": []
    },
    {
      "cell_type": "code",
      "source": [
        "X_train, X_test, y_train, y_test = train_test_split(x, y, test_size=0.2, random_state=42)"
      ],
      "metadata": {
        "id": "DcAPM9b7CpKF"
      },
      "execution_count": 14,
      "outputs": []
    },
    {
      "cell_type": "code",
      "source": [
        "scaler = StandardScaler()\n",
        "X_train_norm = scaler.fit_transform(X_train)\n",
        "X_test_norm = scaler.transform(X_test)"
      ],
      "metadata": {
        "id": "dCkDrWThC_p9"
      },
      "execution_count": 15,
      "outputs": []
    },
    {
      "cell_type": "code",
      "source": [
        "X_train_norm = np.c_[np.ones((X_train_norm.shape[0], 1)), X_train_norm]\n",
        "X_test_norm = np.c_[np.ones((X_test_norm.shape[0], 1)), X_test_norm]"
      ],
      "metadata": {
        "id": "WF1tZUPvDCGt"
      },
      "execution_count": 16,
      "outputs": []
    },
    {
      "cell_type": "code",
      "source": [
        "alpha = 0.01\n",
        "num_iters = 3000"
      ],
      "metadata": {
        "id": "-3DUrSv6DEFl"
      },
      "execution_count": 17,
      "outputs": []
    },
    {
      "cell_type": "code",
      "source": [
        "theta = np.zeros(X_train_norm.shape[1])"
      ],
      "metadata": {
        "id": "1a6beoleDF0u"
      },
      "execution_count": 18,
      "outputs": []
    },
    {
      "cell_type": "code",
      "source": [
        "theta, J_history = gradient_descent(X_train_norm, y_train, theta, alpha, num_iters)"
      ],
      "metadata": {
        "id": "Do8HikGRDHl3"
      },
      "execution_count": 19,
      "outputs": []
    },
    {
      "cell_type": "code",
      "source": [
        "predictions = sigmoid(np.dot(X_test_norm, theta))\n",
        "predictions[predictions >= 0.5] = 1\n",
        "predictions[predictions < 0.5] = 0\n",
        "accuracy = np.mean(predictions == y_test)\n",
        "print(\"Precisión del modelo:\", accuracy)"
      ],
      "metadata": {
        "colab": {
          "base_uri": "https://localhost:8080/"
        },
        "id": "hxwT6LETDJ19",
        "outputId": "1b50e9a3-517f-41d2-9e58-6bb0d56aece4"
      },
      "execution_count": 20,
      "outputs": [
        {
          "output_type": "stream",
          "name": "stdout",
          "text": [
            "Precisión del modelo: 0.9089350127136183\n"
          ]
        }
      ]
    },
    {
      "cell_type": "code",
      "source": [
        "pyplot.plot(range(num_iters), J_history)\n",
        "pyplot.xlabel('Número de Iteraciones')\n",
        "pyplot.ylabel('Costo')\n",
        "pyplot.title('Convergencia del Gradiente Descendente')\n",
        "pyplot.show()\n",
        "print('theta calculado por el descenso por el gradiente: {:s}'.format(str(theta)))"
      ],
      "metadata": {
        "colab": {
          "base_uri": "https://localhost:8080/",
          "height": 541
        },
        "id": "YE2qBgUlDKhV",
        "outputId": "6c985db3-99b1-46cc-9dd6-149bcaef30eb"
      },
      "execution_count": 21,
      "outputs": [
        {
          "output_type": "display_data",
          "data": {
            "text/plain": [
              "<Figure size 640x480 with 1 Axes>"
            ],
            "image/png": "[encoded data removed]"
          },
          "metadata": {}
        },
        {
          "output_type": "stream",
          "name": "stdout",
          "text": [
            "theta calculado por el descenso por el gradiente: [-2.47119541  0.21078067  0.21833586  0.04985388 -0.02926456  0.13308381\n",
            "  0.18966127  0.11970637  0.00305011  0.01113839  0.0073189  -0.04962209\n",
            "  0.01608445  0.02518997  0.31248407 -0.00439627  0.0611799   0.12469508\n",
            "  0.2529259   0.41098363 -0.01518997 -0.07525849]\n"
          ]
        }
      ]
    },
    {
      "cell_type": "code",
      "source": [
        "print(X_test)\n",
        "print(theta)"
      ],
      "metadata": {
        "colab": {
          "base_uri": "https://localhost:8080/"
        },
        "id": "F-jJsn5NDO6F",
        "outputId": "3094b107-a4d0-4a94-952f-884d7d0edf9f"
      },
      "execution_count": 22,
      "outputs": [
        {
          "output_type": "stream",
          "name": "stdout",
          "text": [
            "[[ 0  0  1 ...  8  5  5]\n",
            " [ 1  0  1 ...  7  4  4]\n",
            " [ 0  0  1 ...  1  4  1]\n",
            " ...\n",
            " [ 0  0  1 ...  7  4  5]\n",
            " [ 0  1  1 ... 11  6  8]\n",
            " [ 1  0  1 ... 11  4  6]]\n",
            "[-2.47119541  0.21078067  0.21833586  0.04985388 -0.02926456  0.13308381\n",
            "  0.18966127  0.11970637  0.00305011  0.01113839  0.0073189  -0.04962209\n",
            "  0.01608445  0.02518997  0.31248407 -0.00439627  0.0611799   0.12469508\n",
            "  0.2529259   0.41098363 -0.01518997 -0.07525849]\n"
          ]
        }
      ]
    },
    {
      "cell_type": "code",
      "source": [
        "from sklearn.svm import SVC\n",
        "\n",
        "classifier =  SVC()\n",
        "\n",
        "classifier.fit(X_train, y_train)\n",
        "\n",
        "print(classifier.score(X_test, y_test))"
      ],
      "metadata": {
        "colab": {
          "base_uri": "https://localhost:8080/"
        },
        "id": "R9P6K2Z4FY6H",
        "outputId": "a9311573-b50d-4de9-b744-34cccb6c3e98"
      },
      "execution_count": 23,
      "outputs": [
        {
          "output_type": "stream",
          "name": "stdout",
          "text": [
            "0.9074961070703487\n"
          ]
        }
      ]
    },
    {
      "cell_type": "markdown",
      "source": [
        "En este ejercicio se uso el dataset D1, y debido a los datos binarios que poseia tal dataset se decicio usar el modelo de Clasificacion\n",
        "se procesaron los datos usando pandas, tambien se los separo en 80% para entrenamiento y 20% para pruebas.\n",
        "se realizaron pruebas con valores de entre 1000 y 10000 iteraciones, se decidio dejarlo en 3000 debido a que la curva de la grafica de costo no baja tan abruptamente como con 10000 iteraciones o la casi recta que dan las 1000 iteraciones"
      ],
      "metadata": {
        "id": "0cU0FCRMOPdu"
      }
    },
    {
      "cell_type": "markdown",
      "source": [
        "los resultados brindados con los datos de entrenamiento y 3000 iteraciones dan un 0.91 o 91% de precision, mientras que al realizar la comparacion usando los datos de prueba con el modulo SVC arroja un resultado de 0.907 o 91% de precision"
      ],
      "metadata": {
        "id": "LXarEaHePhKI"
      }
    },
    {
      "cell_type": "markdown",
      "source": [
        "se recomienda no realizar cambios en este codigo, el dataset cuenta con mas de 200000 datos lo que ocasiona que tarde 1 hora y media en hacer los calculos nuevamente"
      ],
      "metadata": {
        "id": "8tkwDD63fqpP"
      }
    }
  ]
}