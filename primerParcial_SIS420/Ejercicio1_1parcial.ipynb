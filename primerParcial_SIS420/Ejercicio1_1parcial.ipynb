{
  "nbformat": 4,
  "nbformat_minor": 0,
  "metadata": {
    "colab": {
      "provenance": []
    },
    "kernelspec": {
      "name": "python3",
      "display_name": "Python 3"
    },
    "language_info": {
      "name": "python"
    }
  },
  "cells": [
    {
      "cell_type": "code",
      "execution_count": 107,
      "metadata": {
        "colab": {
          "base_uri": "https://localhost:8080/"
        },
        "id": "m8m50AnizT3l",
        "outputId": "79837933-91cb-47c4-b8c1-265dc11754bd"
      },
      "outputs": [
        {
          "output_type": "stream",
          "name": "stdout",
          "text": [
            "Drive already mounted at /content/drive; to attempt to forcibly remount, call drive.mount(\"/content/drive\", force_remount=True).\n"
          ]
        }
      ],
      "source": [
        "from google.colab import drive\n",
        "drive.mount('/content/drive')"
      ]
    },
    {
      "cell_type": "code",
      "source": [
        "import os\n",
        "\n",
        "import numpy as np\n",
        "\n",
        "from matplotlib import pyplot\n",
        "\n",
        "from scipy import optimize\n",
        "\n",
        "from sklearn.model_selection import train_test_split\n",
        "\n",
        "%matplotlib inline\n",
        "\n",
        "import pandas as pd\n",
        "import sklearn as skl\n",
        "\n",
        "from sklearn.preprocessing import StandardScaler"
      ],
      "metadata": {
        "id": "kXi_sV3F0Tod"
      },
      "execution_count": 108,
      "outputs": []
    },
    {
      "cell_type": "code",
      "source": [
        "url = \"/content/drive/MyDrive/Colab Notebooks/Datasets/cardio_train.csv\"\n",
        "dataframe = pd.read_csv(url)\n",
        "\n",
        "print(dataframe)\n",
        "x = dataframe.iloc[:, 1:].values\n",
        "y = dataframe.iloc[:, 12].values"
      ],
      "metadata": {
        "colab": {
          "base_uri": "https://localhost:8080/"
        },
        "id": "0AfGhpTx1nSM",
        "outputId": "d308dcca-9bd8-48af-eabc-4bbd36927cf1"
      },
      "execution_count": 109,
      "outputs": [
        {
          "output_type": "stream",
          "name": "stdout",
          "text": [
            "          id    age  gender  height  weight  ap_hi  ap_lo  cholesterol  gluc  \\\n",
            "0          0  18393       2     168    62.0    110     80            1     1   \n",
            "1          1  20228       1     156    85.0    140     90            3     1   \n",
            "2          2  18857       1     165    64.0    130     70            3     1   \n",
            "3          3  17623       2     169    82.0    150    100            1     1   \n",
            "4          4  17474       1     156    56.0    100     60            1     1   \n",
            "...      ...    ...     ...     ...     ...    ...    ...          ...   ...   \n",
            "69995  99993  19240       2     168    76.0    120     80            1     1   \n",
            "69996  99995  22601       1     158   126.0    140     90            2     2   \n",
            "69997  99996  19066       2     183   105.0    180     90            3     1   \n",
            "69998  99998  22431       1     163    72.0    135     80            1     2   \n",
            "69999  99999  20540       1     170    72.0    120     80            2     1   \n",
            "\n",
            "       smoke  alco  active  cardio  \n",
            "0          0     0       1       0  \n",
            "1          0     0       1       1  \n",
            "2          0     0       0       1  \n",
            "3          0     0       1       1  \n",
            "4          0     0       0       0  \n",
            "...      ...   ...     ...     ...  \n",
            "69995      1     0       1       0  \n",
            "69996      0     0       1       1  \n",
            "69997      0     1       0       1  \n",
            "69998      0     0       0       1  \n",
            "69999      0     0       1       0  \n",
            "\n",
            "[70000 rows x 13 columns]\n"
          ]
        }
      ]
    },
    {
      "cell_type": "code",
      "source": [
        "print(x)\n",
        "print(y)"
      ],
      "metadata": {
        "colab": {
          "base_uri": "https://localhost:8080/"
        },
        "id": "mNBPcRTAAy7N",
        "outputId": "209688f4-4ba2-4328-b77d-2686d3988de4"
      },
      "execution_count": 110,
      "outputs": [
        {
          "output_type": "stream",
          "name": "stdout",
          "text": [
            "[[1.8393e+04 2.0000e+00 1.6800e+02 ... 0.0000e+00 1.0000e+00 0.0000e+00]\n",
            " [2.0228e+04 1.0000e+00 1.5600e+02 ... 0.0000e+00 1.0000e+00 1.0000e+00]\n",
            " [1.8857e+04 1.0000e+00 1.6500e+02 ... 0.0000e+00 0.0000e+00 1.0000e+00]\n",
            " ...\n",
            " [1.9066e+04 2.0000e+00 1.8300e+02 ... 1.0000e+00 0.0000e+00 1.0000e+00]\n",
            " [2.2431e+04 1.0000e+00 1.6300e+02 ... 0.0000e+00 0.0000e+00 1.0000e+00]\n",
            " [2.0540e+04 1.0000e+00 1.7000e+02 ... 0.0000e+00 1.0000e+00 0.0000e+00]]\n",
            "[0 1 1 ... 1 1 0]\n"
          ]
        }
      ]
    },
    {
      "cell_type": "code",
      "source": [
        "def sigmoid(z):\n",
        "    return 1 / (1 + np.exp(-z))"
      ],
      "metadata": {
        "id": "sHk9VnyJCDDt"
      },
      "execution_count": 111,
      "outputs": []
    },
    {
      "cell_type": "code",
      "source": [
        "def calculate_cost(theta, X, y):\n",
        "    m = len(y)\n",
        "    h = sigmoid(X.dot(theta))\n",
        "    cost = (1/m) * (-y.T.dot(np.log(h)) - (1 - y).T.dot(np.log(1 - h)))\n",
        "    return cost"
      ],
      "metadata": {
        "id": "Myf0V5CrCFxd"
      },
      "execution_count": 112,
      "outputs": []
    },
    {
      "cell_type": "code",
      "source": [
        "def gradient(theta, X, y):\n",
        "    m = len(y)\n",
        "    h = sigmoid(X.dot(theta))\n",
        "    grad = (1/m) * np.dot(X.T, (h - y))\n",
        "    return grad"
      ],
      "metadata": {
        "id": "FdPp3XXNCH0o"
      },
      "execution_count": 113,
      "outputs": []
    },
    {
      "cell_type": "code",
      "source": [
        "def gradient_descent(X, y, theta, alpha, num_iters):\n",
        "    m = len(y)\n",
        "    J_history = []\n",
        "    for i in range(num_iters):\n",
        "        theta -= alpha * gradient(theta, X, y)\n",
        "        J_history.append(calculate_cost(theta, X, y))\n",
        "    return theta, J_history"
      ],
      "metadata": {
        "id": "ZGWdLCbBCHzW"
      },
      "execution_count": 114,
      "outputs": []
    },
    {
      "cell_type": "code",
      "source": [
        "def feature_normalize(X):\n",
        "    X_norm = X.copy()\n",
        "    mu = np.mean(X, axis=0)\n",
        "    sigma = np.std(X, axis=0)\n",
        "    X_norm = (X - mu) / sigma\n",
        "    return X_norm, mu, sigma"
      ],
      "metadata": {
        "id": "uVq3n6GtCKql"
      },
      "execution_count": 115,
      "outputs": []
    },
    {
      "cell_type": "code",
      "source": [
        "X_train, X_test, y_train, y_test = train_test_split(x, y, test_size=0.2, random_state=42)"
      ],
      "metadata": {
        "id": "DcAPM9b7CpKF"
      },
      "execution_count": 116,
      "outputs": []
    },
    {
      "cell_type": "code",
      "source": [
        "scaler = StandardScaler()\n",
        "X_train_norm = scaler.fit_transform(X_train)\n",
        "X_test_norm = scaler.transform(X_test)"
      ],
      "metadata": {
        "id": "dCkDrWThC_p9"
      },
      "execution_count": 117,
      "outputs": []
    },
    {
      "cell_type": "code",
      "source": [
        "X_train_norm = np.c_[np.ones((X_train_norm.shape[0], 1)), X_train_norm]\n",
        "X_test_norm = np.c_[np.ones((X_test_norm.shape[0], 1)), X_test_norm]"
      ],
      "metadata": {
        "id": "WF1tZUPvDCGt"
      },
      "execution_count": 118,
      "outputs": []
    },
    {
      "cell_type": "code",
      "source": [
        "alpha = 0.01\n",
        "num_iters = 3000"
      ],
      "metadata": {
        "id": "-3DUrSv6DEFl"
      },
      "execution_count": 143,
      "outputs": []
    },
    {
      "cell_type": "code",
      "source": [
        "theta = np.zeros(X_train_norm.shape[1])"
      ],
      "metadata": {
        "id": "1a6beoleDF0u"
      },
      "execution_count": 144,
      "outputs": []
    },
    {
      "cell_type": "code",
      "source": [
        "theta, J_history = gradient_descent(X_train_norm, y_train, theta, alpha, num_iters)"
      ],
      "metadata": {
        "id": "Do8HikGRDHl3"
      },
      "execution_count": 145,
      "outputs": []
    },
    {
      "cell_type": "code",
      "source": [
        "predictions = sigmoid(np.dot(X_test_norm, theta))\n",
        "predictions[predictions >= 0.5] = 1\n",
        "predictions[predictions < 0.5] = 0\n",
        "accuracy = np.mean(predictions == y_test)\n",
        "print(\"Precisión del modelo:\", accuracy)"
      ],
      "metadata": {
        "colab": {
          "base_uri": "https://localhost:8080/"
        },
        "id": "hxwT6LETDJ19",
        "outputId": "d91aff02-e753-41d0-fea9-355a63b63550"
      },
      "execution_count": 141,
      "outputs": [
        {
          "output_type": "stream",
          "name": "stdout",
          "text": [
            "Precisión del modelo: 0.9999285714285714\n"
          ]
        }
      ]
    },
    {
      "cell_type": "code",
      "source": [
        "pyplot.plot(range(num_iters), J_history)\n",
        "pyplot.xlabel('Número de Iteraciones')\n",
        "pyplot.ylabel('Costo')\n",
        "pyplot.title('Convergencia del Gradiente Descendente')\n",
        "pyplot.show()\n",
        "print('theta calculado por el descenso por el gradiente: {:s}'.format(str(theta)))"
      ],
      "metadata": {
        "colab": {
          "base_uri": "https://localhost:8080/",
          "height": 541
        },
        "id": "YE2qBgUlDKhV",
        "outputId": "e468de7d-cffd-4098-dfb0-80a3df0b337b"
      },
      "execution_count": 146,
      "outputs": [
        {
          "output_type": "display_data",
          "data": {
            "text/plain": [
              "<Figure size 640x480 with 1 Axes>"
            ],
            "image/png": "[encoded data removed]"
          },
          "metadata": {}
        },
        {
          "output_type": "stream",
          "name": "stdout",
          "text": [
            "theta calculado por el descenso por el gradiente: [-1.68307748e-03  2.33305044e-01  1.59710342e-02 -3.15393847e-02\n",
            "  1.74654618e-01  5.10727313e-02  5.46792279e-02  2.01285249e-01\n",
            " -1.10759437e-02 -1.63211446e-02 -1.70969754e-02 -3.23084185e-02\n",
            "  3.24965936e+00]\n"
          ]
        }
      ]
    },
    {
      "cell_type": "code",
      "source": [
        "print(X_test)\n",
        "print(theta)"
      ],
      "metadata": {
        "colab": {
          "base_uri": "https://localhost:8080/"
        },
        "id": "F-jJsn5NDO6F",
        "outputId": "95f63c8f-db51-4834-938d-30cb18c47b1c"
      },
      "execution_count": 147,
      "outputs": [
        {
          "output_type": "stream",
          "name": "stdout",
          "text": [
            "[[2.1770e+04 1.0000e+00 1.5600e+02 ... 0.0000e+00 1.0000e+00 1.0000e+00]\n",
            " [2.1876e+04 1.0000e+00 1.7000e+02 ... 0.0000e+00 1.0000e+00 1.0000e+00]\n",
            " [2.3270e+04 1.0000e+00 1.5100e+02 ... 0.0000e+00 1.0000e+00 1.0000e+00]\n",
            " ...\n",
            " [2.2607e+04 1.0000e+00 1.6500e+02 ... 0.0000e+00 0.0000e+00 0.0000e+00]\n",
            " [1.9670e+04 1.0000e+00 1.5700e+02 ... 0.0000e+00 1.0000e+00 1.0000e+00]\n",
            " [1.8320e+04 2.0000e+00 1.7600e+02 ... 0.0000e+00 0.0000e+00 1.0000e+00]]\n",
            "[-1.68307748e-03  2.33305044e-01  1.59710342e-02 -3.15393847e-02\n",
            "  1.74654618e-01  5.10727313e-02  5.46792279e-02  2.01285249e-01\n",
            " -1.10759437e-02 -1.63211446e-02 -1.70969754e-02 -3.23084185e-02\n",
            "  3.24965936e+00]\n"
          ]
        }
      ]
    },
    {
      "cell_type": "code",
      "source": [
        "from sklearn.svm import SVC\n",
        "\n",
        "classifier =  SVC()\n",
        "\n",
        "classifier.fit(X_train, y_train)\n",
        "\n",
        "print(classifier.score(X_test, y_test))"
      ],
      "metadata": {
        "colab": {
          "base_uri": "https://localhost:8080/"
        },
        "id": "R9P6K2Z4FY6H",
        "outputId": "bb9ed26f-22f8-44c5-f7bf-63bcc9f86974"
      },
      "execution_count": 148,
      "outputs": [
        {
          "output_type": "stream",
          "name": "stdout",
          "text": [
            "0.6052142857142857\n"
          ]
        }
      ]
    },
    {
      "cell_type": "markdown",
      "source": [
        "En este ejercicio se uso el dataset D1, y debido a los datos binarios que poseia tal dataset se decicio usar el modelo de Clasificacion\n",
        "se procesaron los datos usando pandas, tambien se los separo en 80% para entrenamiento y 20% para pruebas.\n",
        "se realizaron pruebas con valores de entre 1000 y 10000 iteraciones, se decidio dejarlo en 3000 debido a que la curva de la grafica de costo no baja tan abruptamente como con 10000 iteraciones o la casi recta que dan las 1000 iteraciones"
      ],
      "metadata": {
        "id": "0cU0FCRMOPdu"
      }
    },
    {
      "cell_type": "markdown",
      "source": [
        "los resultados brindados con los datos de entrenamiento y 5000 iteraciones dan un 0.9999 o 99.99% de precision, mientras que al realizar la comparacion usando los datos de prueba con el modulo SVC arroja un resultado de 0.60... o 61% de precision"
      ],
      "metadata": {
        "id": "LXarEaHePhKI"
      }
    }
  ]
}