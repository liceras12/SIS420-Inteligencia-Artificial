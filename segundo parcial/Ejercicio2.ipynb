{
  "cells": [
    {
      "cell_type": "markdown",
      "metadata": {
        "id": "KfBvCP3KG5KY"
      },
      "source": [
        "Liceras Rodriguez Luis Fabricio - Ingenieria en Sistemas\n",
        "Se uso el dataset 2 o numero 156\n"
      ]
    },
    {
      "cell_type": "code",
      "execution_count": 92,
      "metadata": {
        "id": "cuYsBwVdIZXb",
        "colab": {
          "base_uri": "https://localhost:8080/"
        },
        "outputId": "b9846e7f-8e95-4b12-fb6f-aa9f23470f5f"
      },
      "outputs": [
        {
          "output_type": "stream",
          "name": "stdout",
          "text": [
            "Drive already mounted at /content/gdrive; to attempt to forcibly remount, call drive.mount(\"/content/gdrive\", force_remount=True).\n"
          ]
        }
      ],
      "source": [
        "from google.colab import drive\n",
        "drive.mount(\"/content/gdrive\")"
      ]
    },
    {
      "cell_type": "code",
      "execution_count": 93,
      "metadata": {
        "id": "ArVpzMcMIo83"
      },
      "outputs": [],
      "source": [
        "import os\n",
        "import numpy as np\n",
        "import pandas as pd\n",
        "from sklearn.model_selection import train_test_split\n",
        "from sklearn.preprocessing import OrdinalEncoder\n",
        "import matplotlib.pyplot as plt\n",
        "from sklearn.cluster import KMeans"
      ]
    },
    {
      "cell_type": "markdown",
      "metadata": {
        "id": "FmWAGTaThW_G"
      },
      "source": [
        "**Preprocesamiento del Dataset**"
      ]
    },
    {
      "cell_type": "code",
      "execution_count": 94,
      "metadata": {
        "id": "pIikdQRNI25A",
        "colab": {
          "base_uri": "https://localhost:8080/",
          "height": 959
        },
        "outputId": "021ad53a-a7f8-413d-b659-8c16e8d0de41"
      },
      "outputs": [
        {
          "output_type": "stream",
          "name": "stdout",
          "text": [
            "               X         Y      Slope    Curvature       Aspect       TWI  \\\n",
            "0       3.909444  7.443056  46.686142 -3.888000e+09   45.000000 -3.250368   \n",
            "1       3.908611  7.442778  52.151768  1.296000e+09   60.945396 -4.313832   \n",
            "2       3.908889  7.442778  66.484085  0.000000e+00   67.619865 -8.327622   \n",
            "3       3.909167  7.442778  58.007183 -2.592000e+09   38.659809 -4.707937   \n",
            "4       3.909444  7.442778  60.503792 -1.296000e+09  351.869904 -5.985817   \n",
            "...          ...       ...        ...           ...         ...       ...   \n",
            "144396  3.864167  7.311667  70.837776  1.296000e+09  272.489563 -8.552538   \n",
            "144397  3.864444  7.311667  72.578880  1.296000e+09  295.559967 -9.347733   \n",
            "144398  3.864722  7.311667  70.667946  6.480000e+09  322.125031 -9.236161   \n",
            "144399  3.859722  7.311389  61.980232  1.296000e+09  183.814072 -8.819514   \n",
            "144400  3.860000  7.311389  68.768135  5.184000e+09  150.945389 -9.134113   \n",
            "\n",
            "           FA  Drainage    Rainfall     SUSCEP  \n",
            "0       147.0  228.8528  101.515616  Very_High  \n",
            "1        61.0  229.6781   80.409863  Very_High  \n",
            "2         1.0  230.5920   78.986849  Very_High  \n",
            "3        51.0  235.4210   81.953151  Very_High  \n",
            "4        15.0  234.4346   85.866027  Very_High  \n",
            "...       ...       ...         ...        ...  \n",
            "144396    1.0  211.7292   63.087945        Low  \n",
            "144397    0.0  220.4144   60.489041   Moderate  \n",
            "144398    0.0  216.3101   62.886849        Low  \n",
            "144399    0.0  214.3301   66.044932        Low  \n",
            "144400    0.0  211.5915  101.515616        Low  \n",
            "\n",
            "[144401 rows x 10 columns]\n",
            "X             0\n",
            "Y             0\n",
            "Slope         0\n",
            "Curvature     0\n",
            "Aspect        0\n",
            "TWI           0\n",
            "FA            0\n",
            "Drainage      0\n",
            "Rainfall      0\n",
            "SUSCEP        0\n",
            "dtype: int64\n"
          ]
        },
        {
          "output_type": "execute_result",
          "data": {
            "text/plain": [
              "                   X              Y          Slope     Curvature   \\\n",
              "count  144119.000000  144119.000000  144119.000000  144119.000000   \n",
              "mean      217.507726     227.400877      68.138996      26.549379   \n",
              "std       100.370370     116.966336      75.000860       3.555811   \n",
              "min         0.000000       0.000000       0.000000       0.000000   \n",
              "25%       136.000000     132.000000      24.000000      24.000000   \n",
              "50%       218.000000     226.000000      49.000000      27.000000   \n",
              "75%       297.000000     321.000000      86.000000      29.000000   \n",
              "max       444.000000     474.000000     930.000000      56.000000   \n",
              "\n",
              "              Aspect            TWI             FA       Drainage  \\\n",
              "count  144119.000000  144119.000000  144119.000000  144119.000000   \n",
              "mean     1392.256989    3405.171948      63.170172      98.000569   \n",
              "std       744.979836    3287.469863     328.879197      56.871073   \n",
              "min         0.000000       0.000000       0.000000       0.000000   \n",
              "25%       847.000000    1439.000000       2.000000      49.000000   \n",
              "50%      1426.000000    2138.000000       3.000000      98.000000   \n",
              "75%      2011.000000    3894.000000       8.000000     147.000000   \n",
              "max      2663.000000   17349.000000    3544.000000     196.000000   \n",
              "\n",
              "            Rainfall         SUSCEP  \n",
              "count  144119.000000  144119.000000  \n",
              "mean       16.649422       1.736183  \n",
              "std         8.960119       1.367311  \n",
              "min         0.000000       0.000000  \n",
              "25%         9.000000       1.000000  \n",
              "50%        17.000000       2.000000  \n",
              "75%        25.000000       3.000000  \n",
              "max        31.000000       4.000000  "
            ],
            "text/html": [
              "\n",
              "  <div id=\"df-9716787c-713f-4811-8108-3bf740889905\" class=\"colab-df-container\">\n",
              "    <div>\n",
              "<style scoped>\n",
              "    .dataframe tbody tr th:only-of-type {\n",
              "        vertical-align: middle;\n",
              "    }\n",
              "\n",
              "    .dataframe tbody tr th {\n",
              "        vertical-align: top;\n",
              "    }\n",
              "\n",
              "    .dataframe thead th {\n",
              "        text-align: right;\n",
              "    }\n",
              "</style>\n",
              "<table border=\"1\" class=\"dataframe\">\n",
              "  <thead>\n",
              "    <tr style=\"text-align: right;\">\n",
              "      <th></th>\n",
              "      <th>X</th>\n",
              "      <th>Y</th>\n",
              "      <th>Slope</th>\n",
              "      <th>Curvature</th>\n",
              "      <th>Aspect</th>\n",
              "      <th>TWI</th>\n",
              "      <th>FA</th>\n",
              "      <th>Drainage</th>\n",
              "      <th>Rainfall</th>\n",
              "      <th>SUSCEP</th>\n",
              "    </tr>\n",
              "  </thead>\n",
              "  <tbody>\n",
              "    <tr>\n",
              "      <th>count</th>\n",
              "      <td>144119.000000</td>\n",
              "      <td>144119.000000</td>\n",
              "      <td>144119.000000</td>\n",
              "      <td>144119.000000</td>\n",
              "      <td>144119.000000</td>\n",
              "      <td>144119.000000</td>\n",
              "      <td>144119.000000</td>\n",
              "      <td>144119.000000</td>\n",
              "      <td>144119.000000</td>\n",
              "      <td>144119.000000</td>\n",
              "    </tr>\n",
              "    <tr>\n",
              "      <th>mean</th>\n",
              "      <td>217.507726</td>\n",
              "      <td>227.400877</td>\n",
              "      <td>68.138996</td>\n",
              "      <td>26.549379</td>\n",
              "      <td>1392.256989</td>\n",
              "      <td>3405.171948</td>\n",
              "      <td>63.170172</td>\n",
              "      <td>98.000569</td>\n",
              "      <td>16.649422</td>\n",
              "      <td>1.736183</td>\n",
              "    </tr>\n",
              "    <tr>\n",
              "      <th>std</th>\n",
              "      <td>100.370370</td>\n",
              "      <td>116.966336</td>\n",
              "      <td>75.000860</td>\n",
              "      <td>3.555811</td>\n",
              "      <td>744.979836</td>\n",
              "      <td>3287.469863</td>\n",
              "      <td>328.879197</td>\n",
              "      <td>56.871073</td>\n",
              "      <td>8.960119</td>\n",
              "      <td>1.367311</td>\n",
              "    </tr>\n",
              "    <tr>\n",
              "      <th>min</th>\n",
              "      <td>0.000000</td>\n",
              "      <td>0.000000</td>\n",
              "      <td>0.000000</td>\n",
              "      <td>0.000000</td>\n",
              "      <td>0.000000</td>\n",
              "      <td>0.000000</td>\n",
              "      <td>0.000000</td>\n",
              "      <td>0.000000</td>\n",
              "      <td>0.000000</td>\n",
              "      <td>0.000000</td>\n",
              "    </tr>\n",
              "    <tr>\n",
              "      <th>25%</th>\n",
              "      <td>136.000000</td>\n",
              "      <td>132.000000</td>\n",
              "      <td>24.000000</td>\n",
              "      <td>24.000000</td>\n",
              "      <td>847.000000</td>\n",
              "      <td>1439.000000</td>\n",
              "      <td>2.000000</td>\n",
              "      <td>49.000000</td>\n",
              "      <td>9.000000</td>\n",
              "      <td>1.000000</td>\n",
              "    </tr>\n",
              "    <tr>\n",
              "      <th>50%</th>\n",
              "      <td>218.000000</td>\n",
              "      <td>226.000000</td>\n",
              "      <td>49.000000</td>\n",
              "      <td>27.000000</td>\n",
              "      <td>1426.000000</td>\n",
              "      <td>2138.000000</td>\n",
              "      <td>3.000000</td>\n",
              "      <td>98.000000</td>\n",
              "      <td>17.000000</td>\n",
              "      <td>2.000000</td>\n",
              "    </tr>\n",
              "    <tr>\n",
              "      <th>75%</th>\n",
              "      <td>297.000000</td>\n",
              "      <td>321.000000</td>\n",
              "      <td>86.000000</td>\n",
              "      <td>29.000000</td>\n",
              "      <td>2011.000000</td>\n",
              "      <td>3894.000000</td>\n",
              "      <td>8.000000</td>\n",
              "      <td>147.000000</td>\n",
              "      <td>25.000000</td>\n",
              "      <td>3.000000</td>\n",
              "    </tr>\n",
              "    <tr>\n",
              "      <th>max</th>\n",
              "      <td>444.000000</td>\n",
              "      <td>474.000000</td>\n",
              "      <td>930.000000</td>\n",
              "      <td>56.000000</td>\n",
              "      <td>2663.000000</td>\n",
              "      <td>17349.000000</td>\n",
              "      <td>3544.000000</td>\n",
              "      <td>196.000000</td>\n",
              "      <td>31.000000</td>\n",
              "      <td>4.000000</td>\n",
              "    </tr>\n",
              "  </tbody>\n",
              "</table>\n",
              "</div>\n",
              "    <div class=\"colab-df-buttons\">\n",
              "\n",
              "  <div class=\"colab-df-container\">\n",
              "    <button class=\"colab-df-convert\" onclick=\"convertToInteractive('df-9716787c-713f-4811-8108-3bf740889905')\"\n",
              "            title=\"Convert this dataframe to an interactive table.\"\n",
              "            style=\"display:none;\">\n",
              "\n",
              "  <svg xmlns=\"http://www.w3.org/2000/svg\" height=\"24px\" viewBox=\"0 -960 960 960\">\n",
              "    <path d=\"M120-120v-720h720v720H120Zm60-500h600v-160H180v160Zm220 220h160v-160H400v160Zm0 220h160v-160H400v160ZM180-400h160v-160H180v160Zm440 0h160v-160H620v160ZM180-180h160v-160H180v160Zm440 0h160v-160H620v160Z\"/>\n",
              "  </svg>\n",
              "    </button>\n",
              "\n",
              "  <style>\n",
              "    .colab-df-container {\n",
              "      display:flex;\n",
              "      gap: 12px;\n",
              "    }\n",
              "\n",
              "    .colab-df-convert {\n",
              "      background-color: #E8F0FE;\n",
              "      border: none;\n",
              "      border-radius: 50%;\n",
              "      cursor: pointer;\n",
              "      display: none;\n",
              "      fill: #1967D2;\n",
              "      height: 32px;\n",
              "      padding: 0 0 0 0;\n",
              "      width: 32px;\n",
              "    }\n",
              "\n",
              "    .colab-df-convert:hover {\n",
              "      background-color: #E2EBFA;\n",
              "      box-shadow: 0px 1px 2px rgba(60, 64, 67, 0.3), 0px 1px 3px 1px rgba(60, 64, 67, 0.15);\n",
              "      fill: #174EA6;\n",
              "    }\n",
              "\n",
              "    .colab-df-buttons div {\n",
              "      margin-bottom: 4px;\n",
              "    }\n",
              "\n",
              "    [theme=dark] .colab-df-convert {\n",
              "      background-color: #3B4455;\n",
              "      fill: #D2E3FC;\n",
              "    }\n",
              "\n",
              "    [theme=dark] .colab-df-convert:hover {\n",
              "      background-color: #434B5C;\n",
              "      box-shadow: 0px 1px 3px 1px rgba(0, 0, 0, 0.15);\n",
              "      filter: drop-shadow(0px 1px 2px rgba(0, 0, 0, 0.3));\n",
              "      fill: #FFFFFF;\n",
              "    }\n",
              "  </style>\n",
              "\n",
              "    <script>\n",
              "      const buttonEl =\n",
              "        document.querySelector('#df-9716787c-713f-4811-8108-3bf740889905 button.colab-df-convert');\n",
              "      buttonEl.style.display =\n",
              "        google.colab.kernel.accessAllowed ? 'block' : 'none';\n",
              "\n",
              "      async function convertToInteractive(key) {\n",
              "        const element = document.querySelector('#df-9716787c-713f-4811-8108-3bf740889905');\n",
              "        const dataTable =\n",
              "          await google.colab.kernel.invokeFunction('convertToInteractive',\n",
              "                                                    [key], {});\n",
              "        if (!dataTable) return;\n",
              "\n",
              "        const docLinkHtml = 'Like what you see? Visit the ' +\n",
              "          '<a target=\"_blank\" href=https://colab.research.google.com/notebooks/data_table.ipynb>data table notebook</a>'\n",
              "          + ' to learn more about interactive tables.';\n",
              "        element.innerHTML = '';\n",
              "        dataTable['output_type'] = 'display_data';\n",
              "        await google.colab.output.renderOutput(dataTable, element);\n",
              "        const docLink = document.createElement('div');\n",
              "        docLink.innerHTML = docLinkHtml;\n",
              "        element.appendChild(docLink);\n",
              "      }\n",
              "    </script>\n",
              "  </div>\n",
              "\n",
              "\n",
              "<div id=\"df-4b45175b-79a8-41d4-a2f2-e810a84ac61a\">\n",
              "  <button class=\"colab-df-quickchart\" onclick=\"quickchart('df-4b45175b-79a8-41d4-a2f2-e810a84ac61a')\"\n",
              "            title=\"Suggest charts\"\n",
              "            style=\"display:none;\">\n",
              "\n",
              "<svg xmlns=\"http://www.w3.org/2000/svg\" height=\"24px\"viewBox=\"0 0 24 24\"\n",
              "     width=\"24px\">\n",
              "    <g>\n",
              "        <path d=\"M19 3H5c-1.1 0-2 .9-2 2v14c0 1.1.9 2 2 2h14c1.1 0 2-.9 2-2V5c0-1.1-.9-2-2-2zM9 17H7v-7h2v7zm4 0h-2V7h2v10zm4 0h-2v-4h2v4z\"/>\n",
              "    </g>\n",
              "</svg>\n",
              "  </button>\n",
              "\n",
              "<style>\n",
              "  .colab-df-quickchart {\n",
              "      --bg-color: #E8F0FE;\n",
              "      --fill-color: #1967D2;\n",
              "      --hover-bg-color: #E2EBFA;\n",
              "      --hover-fill-color: #174EA6;\n",
              "      --disabled-fill-color: #AAA;\n",
              "      --disabled-bg-color: #DDD;\n",
              "  }\n",
              "\n",
              "  [theme=dark] .colab-df-quickchart {\n",
              "      --bg-color: #3B4455;\n",
              "      --fill-color: #D2E3FC;\n",
              "      --hover-bg-color: #434B5C;\n",
              "      --hover-fill-color: #FFFFFF;\n",
              "      --disabled-bg-color: #3B4455;\n",
              "      --disabled-fill-color: #666;\n",
              "  }\n",
              "\n",
              "  .colab-df-quickchart {\n",
              "    background-color: var(--bg-color);\n",
              "    border: none;\n",
              "    border-radius: 50%;\n",
              "    cursor: pointer;\n",
              "    display: none;\n",
              "    fill: var(--fill-color);\n",
              "    height: 32px;\n",
              "    padding: 0;\n",
              "    width: 32px;\n",
              "  }\n",
              "\n",
              "  .colab-df-quickchart:hover {\n",
              "    background-color: var(--hover-bg-color);\n",
              "    box-shadow: 0 1px 2px rgba(60, 64, 67, 0.3), 0 1px 3px 1px rgba(60, 64, 67, 0.15);\n",
              "    fill: var(--button-hover-fill-color);\n",
              "  }\n",
              "\n",
              "  .colab-df-quickchart-complete:disabled,\n",
              "  .colab-df-quickchart-complete:disabled:hover {\n",
              "    background-color: var(--disabled-bg-color);\n",
              "    fill: var(--disabled-fill-color);\n",
              "    box-shadow: none;\n",
              "  }\n",
              "\n",
              "  .colab-df-spinner {\n",
              "    border: 2px solid var(--fill-color);\n",
              "    border-color: transparent;\n",
              "    border-bottom-color: var(--fill-color);\n",
              "    animation:\n",
              "      spin 1s steps(1) infinite;\n",
              "  }\n",
              "\n",
              "  @keyframes spin {\n",
              "    0% {\n",
              "      border-color: transparent;\n",
              "      border-bottom-color: var(--fill-color);\n",
              "      border-left-color: var(--fill-color);\n",
              "    }\n",
              "    20% {\n",
              "      border-color: transparent;\n",
              "      border-left-color: var(--fill-color);\n",
              "      border-top-color: var(--fill-color);\n",
              "    }\n",
              "    30% {\n",
              "      border-color: transparent;\n",
              "      border-left-color: var(--fill-color);\n",
              "      border-top-color: var(--fill-color);\n",
              "      border-right-color: var(--fill-color);\n",
              "    }\n",
              "    40% {\n",
              "      border-color: transparent;\n",
              "      border-right-color: var(--fill-color);\n",
              "      border-top-color: var(--fill-color);\n",
              "    }\n",
              "    60% {\n",
              "      border-color: transparent;\n",
              "      border-right-color: var(--fill-color);\n",
              "    }\n",
              "    80% {\n",
              "      border-color: transparent;\n",
              "      border-right-color: var(--fill-color);\n",
              "      border-bottom-color: var(--fill-color);\n",
              "    }\n",
              "    90% {\n",
              "      border-color: transparent;\n",
              "      border-bottom-color: var(--fill-color);\n",
              "    }\n",
              "  }\n",
              "</style>\n",
              "\n",
              "  <script>\n",
              "    async function quickchart(key) {\n",
              "      const quickchartButtonEl =\n",
              "        document.querySelector('#' + key + ' button');\n",
              "      quickchartButtonEl.disabled = true;  // To prevent multiple clicks.\n",
              "      quickchartButtonEl.classList.add('colab-df-spinner');\n",
              "      try {\n",
              "        const charts = await google.colab.kernel.invokeFunction(\n",
              "            'suggestCharts', [key], {});\n",
              "      } catch (error) {\n",
              "        console.error('Error during call to suggestCharts:', error);\n",
              "      }\n",
              "      quickchartButtonEl.classList.remove('colab-df-spinner');\n",
              "      quickchartButtonEl.classList.add('colab-df-quickchart-complete');\n",
              "    }\n",
              "    (() => {\n",
              "      let quickchartButtonEl =\n",
              "        document.querySelector('#df-4b45175b-79a8-41d4-a2f2-e810a84ac61a button');\n",
              "      quickchartButtonEl.style.display =\n",
              "        google.colab.kernel.accessAllowed ? 'block' : 'none';\n",
              "    })();\n",
              "  </script>\n",
              "</div>\n",
              "\n",
              "    </div>\n",
              "  </div>\n"
            ],
            "application/vnd.google.colaboratory.intrinsic+json": {
              "type": "dataframe",
              "summary": "{\n  \"name\": \"dataframe\",\n  \"rows\": 8,\n  \"fields\": [\n    {\n      \"column\": \"X\",\n      \"properties\": {\n        \"dtype\": \"number\",\n        \"std\": 50882.57345110942,\n        \"min\": 0.0,\n        \"max\": 144119.0,\n        \"num_unique_values\": 8,\n        \"samples\": [\n          217.50772625399844,\n          218.0,\n          144119.0\n        ],\n        \"semantic_type\": \"\",\n        \"description\": \"\"\n      }\n    },\n    {\n      \"column\": \"Y\",\n      \"properties\": {\n        \"dtype\": \"number\",\n        \"std\": 50878.331018017096,\n        \"min\": 0.0,\n        \"max\": 144119.0,\n        \"num_unique_values\": 8,\n        \"samples\": [\n          227.40087705299092,\n          226.0,\n          144119.0\n        ],\n        \"semantic_type\": \"\",\n        \"description\": \"\"\n      }\n    },\n    {\n      \"column\": \"Slope\",\n      \"properties\": {\n        \"dtype\": \"number\",\n        \"std\": 50892.46712411778,\n        \"min\": 0.0,\n        \"max\": 144119.0,\n        \"num_unique_values\": 8,\n        \"samples\": [\n          68.13899624615769,\n          49.0,\n          144119.0\n        ],\n        \"semantic_type\": \"\",\n        \"description\": \"\"\n      }\n    },\n    {\n      \"column\": \"Curvature \",\n      \"properties\": {\n        \"dtype\": \"number\",\n        \"std\": 50945.3744052364,\n        \"min\": 0.0,\n        \"max\": 144119.0,\n        \"num_unique_values\": 8,\n        \"samples\": [\n          26.549379332357287,\n          27.0,\n          144119.0\n        ],\n        \"semantic_type\": \"\",\n        \"description\": \"\"\n      }\n    },\n    {\n      \"column\": \"Aspect\",\n      \"properties\": {\n        \"dtype\": \"number\",\n        \"std\": 50501.43157629767,\n        \"min\": 0.0,\n        \"max\": 144119.0,\n        \"num_unique_values\": 8,\n        \"samples\": [\n          1392.2569890160214,\n          1426.0,\n          144119.0\n        ],\n        \"semantic_type\": \"\",\n        \"description\": \"\"\n      }\n    },\n    {\n      \"column\": \"TWI\",\n      \"properties\": {\n        \"dtype\": \"number\",\n        \"std\": 49655.487995382144,\n        \"min\": 0.0,\n        \"max\": 144119.0,\n        \"num_unique_values\": 8,\n        \"samples\": [\n          3405.171948181711,\n          2138.0,\n          144119.0\n        ],\n        \"semantic_type\": \"\",\n        \"description\": \"\"\n      }\n    },\n    {\n      \"column\": \"FA\",\n      \"properties\": {\n        \"dtype\": \"number\",\n        \"std\": 50769.0005536354,\n        \"min\": 0.0,\n        \"max\": 144119.0,\n        \"num_unique_values\": 8,\n        \"samples\": [\n          63.1701718718559,\n          3.0,\n          144119.0\n        ],\n        \"semantic_type\": \"\",\n        \"description\": \"\"\n      }\n    },\n    {\n      \"column\": \"Drainage\",\n      \"properties\": {\n        \"dtype\": \"number\",\n        \"std\": 50921.225875774784,\n        \"min\": 0.0,\n        \"max\": 144119.0,\n        \"num_unique_values\": 8,\n        \"samples\": [\n          98.00056897425044,\n          98.0,\n          144119.0\n        ],\n        \"semantic_type\": \"\",\n        \"description\": \"\"\n      }\n    },\n    {\n      \"column\": \"Rainfall\",\n      \"properties\": {\n        \"dtype\": \"number\",\n        \"std\": 50948.326920589374,\n        \"min\": 0.0,\n        \"max\": 144119.0,\n        \"num_unique_values\": 8,\n        \"samples\": [\n          16.649421658490553,\n          17.0,\n          144119.0\n        ],\n        \"semantic_type\": \"\",\n        \"description\": \"\"\n      }\n    },\n    {\n      \"column\": \"SUSCEP\",\n      \"properties\": {\n        \"dtype\": \"number\",\n        \"std\": 50953.09928700393,\n        \"min\": 0.0,\n        \"max\": 144119.0,\n        \"num_unique_values\": 8,\n        \"samples\": [\n          1.736183292973168,\n          2.0,\n          144119.0\n        ],\n        \"semantic_type\": \"\",\n        \"description\": \"\"\n      }\n    }\n  ]\n}"
            }
          },
          "metadata": {},
          "execution_count": 94
        }
      ],
      "source": [
        "#Se recibe el dataset y realiza el preprocesado\n",
        "url = \"/content/gdrive/MyDrive/Colab Notebooks/Datasets/D2Pluvial_Flood_Dataset.csv\"\n",
        "dataframe = pd.read_csv(url)\n",
        "print(dataframe)\n",
        "\n",
        "column_names = [\n",
        "    'X','Y','Slope','Curvature ' ,'Aspect','TWI','FA',\n",
        "    'Drainage','Rainfall','SUSCEP'\n",
        "]\n",
        "\n",
        "ordinal_encoder = OrdinalEncoder()\n",
        "\n",
        "for columna in column_names:\n",
        "    columna_n = dataframe[columna].values.reshape(-1, 1)\n",
        "    dataframe[columna] = ordinal_encoder.fit_transform(columna_n)\n",
        "# una columna con valores de calificacion, se convirtio en string y luego a entero\n",
        "# asignando un valor por cada tipo de calificacion que poseia\n",
        "dataframe['SUSCEP'] = dataframe['SUSCEP'].astype(str)\n",
        "Monthly_Balance = dataframe[['SUSCEP']]\n",
        "dataframe['SUSCEP'] = ordinal_encoder.fit_transform(Monthly_Balance)\n",
        "#Se eliminan las filas con algun valor nulo\n",
        "dataframe.dropna(inplace=True)\n",
        "print(dataframe.isnull().sum())\n",
        "\n",
        "dataframe.describe()"
      ]
    },
    {
      "cell_type": "code",
      "execution_count": 95,
      "metadata": {
        "id": "9RaKQy7FfYwt",
        "colab": {
          "base_uri": "https://localhost:8080/"
        },
        "outputId": "de944515-ee3e-4511-cc6d-42b48642e5ad"
      },
      "outputs": [
        {
          "output_type": "stream",
          "name": "stdout",
          "text": [
            "            X      Y  Slope  Curvature   Aspect      TWI     FA  Drainage  \\\n",
            "0       282.0  474.0   19.0        23.0   331.0  11155.0  149.0     177.0   \n",
            "1       279.0  473.0   27.0        28.0   460.0   9044.0   63.0     180.0   \n",
            "2       280.0  473.0   69.0        27.0   519.0   1783.0    3.0     185.0   \n",
            "3       281.0  473.0   38.0        24.0   278.0   8203.0   53.0     196.0   \n",
            "4       282.0  473.0   44.0        25.0  2608.0   5240.0   17.0     193.0   \n",
            "...       ...    ...    ...         ...     ...      ...    ...       ...   \n",
            "144396  119.0    1.0  102.0        28.0  2027.0   1545.0    3.0      30.0   \n",
            "144397  120.0    1.0  122.0        28.0  2218.0    740.0    2.0      96.0   \n",
            "144398  121.0    1.0  100.0        32.0  2415.0    844.0    2.0      62.0   \n",
            "144399  103.0    0.0   49.0        28.0  1389.0   1265.0    2.0      50.0   \n",
            "144400  104.0    0.0   84.0        31.0  1196.0    951.0    2.0      29.0   \n",
            "\n",
            "        Rainfall  SUSCEP  \n",
            "0           31.0     4.0  \n",
            "1           24.0     4.0  \n",
            "2           23.0     4.0  \n",
            "3           26.0     4.0  \n",
            "4           29.0     4.0  \n",
            "...          ...     ...  \n",
            "144396       3.0     1.0  \n",
            "144397       1.0     2.0  \n",
            "144398       2.0     1.0  \n",
            "144399       7.0     1.0  \n",
            "144400      31.0     1.0  \n",
            "\n",
            "[144119 rows x 10 columns]\n"
          ]
        }
      ],
      "source": [
        "print(dataframe)"
      ]
    },
    {
      "cell_type": "code",
      "execution_count": 96,
      "metadata": {
        "id": "vEg0icFhfg0U"
      },
      "outputs": [],
      "source": [
        "#Se divide dataframe en dos, caracteristicas y etiquetas\n",
        "y = dataframe['SUSCEP']\n",
        "X = dataframe.drop(columns=['SUSCEP'])"
      ]
    },
    {
      "cell_type": "code",
      "execution_count": 97,
      "metadata": {
        "id": "GiYc_iX4gzdd",
        "colab": {
          "base_uri": "https://localhost:8080/"
        },
        "outputId": "04e3533d-1598-47ec-c8ff-7215fadd5d60"
      },
      "outputs": [
        {
          "output_type": "stream",
          "name": "stdout",
          "text": [
            "[4. 0. 2. 1. 3.]\n",
            "5\n"
          ]
        }
      ],
      "source": [
        "labels = y.unique()\n",
        "\n",
        "#Se muetran los valores unicos\n",
        "print(labels)\n",
        "print(len(labels))"
      ]
    },
    {
      "cell_type": "code",
      "execution_count": 98,
      "metadata": {
        "id": "NWpFVyB7g_zq"
      },
      "outputs": [],
      "source": [
        "# Dividimos los datos en conjuntos para entrenamiento y para prueba\n",
        "X_train, X_test, y_train, y_test = train_test_split(X, y, test_size=0.2, random_state=1)"
      ]
    },
    {
      "cell_type": "code",
      "execution_count": 99,
      "metadata": {
        "id": "4NJryD_8hFCn",
        "colab": {
          "base_uri": "https://localhost:8080/"
        },
        "outputId": "7b5330dd-c72b-4bef-c140-680bd341bbe0"
      },
      "outputs": [
        {
          "output_type": "stream",
          "name": "stdout",
          "text": [
            "115295\n",
            "115295\n",
            "28824\n",
            "28824\n"
          ]
        }
      ],
      "source": [
        "#Se muestra la cantidad de valores que se posee para entrenamiento y test\n",
        "print(len(X_train))\n",
        "print(len(y_train))\n",
        "print(len(X_test))\n",
        "print(len(y_test))"
      ]
    },
    {
      "cell_type": "markdown",
      "metadata": {
        "id": "gnGAzY86hibt"
      },
      "source": [
        "**Clustering**"
      ]
    },
    {
      "cell_type": "markdown",
      "metadata": {
        "id": "Olv9EdrZMza5"
      },
      "source": [
        "Prueba del clustering"
      ]
    },
    {
      "cell_type": "code",
      "execution_count": 100,
      "metadata": {
        "id": "9tt7tjFDhmh5"
      },
      "outputs": [],
      "source": [
        "X_trainNp = X_train.values\n",
        "y_trainNp= y_train.values"
      ]
    },
    {
      "cell_type": "code",
      "execution_count": 101,
      "metadata": {
        "id": "kPd1LQjchv2e"
      },
      "outputs": [],
      "source": [
        "X_testNp = X_test.values\n",
        "y_testNp= y_test.values"
      ]
    },
    {
      "cell_type": "code",
      "execution_count": 102,
      "metadata": {
        "id": "8dvtsgKohy-9",
        "colab": {
          "base_uri": "https://localhost:8080/",
          "height": 126
        },
        "outputId": "fe4c723e-21a5-45a7-c8d6-d59e58569ce4"
      },
      "outputs": [
        {
          "output_type": "stream",
          "name": "stderr",
          "text": [
            "/usr/local/lib/python3.10/dist-packages/sklearn/cluster/_kmeans.py:1366: FutureWarning: algorithm='full' is deprecated, it will be removed in 1.3. Using 'lloyd' instead.\n",
            "  warnings.warn(\n"
          ]
        },
        {
          "output_type": "execute_result",
          "data": {
            "text/plain": [
              "KMeans(algorithm='full', init='random', n_clusters=5, n_init=20,\n",
              "       random_state=11)"
            ],
            "text/html": [
              "<style>#sk-container-id-6 {color: black;background-color: white;}#sk-container-id-6 pre{padding: 0;}#sk-container-id-6 div.sk-toggleable {background-color: white;}#sk-container-id-6 label.sk-toggleable__label {cursor: pointer;display: block;width: 100%;margin-bottom: 0;padding: 0.3em;box-sizing: border-box;text-align: center;}#sk-container-id-6 label.sk-toggleable__label-arrow:before {content: \"▸\";float: left;margin-right: 0.25em;color: #696969;}#sk-container-id-6 label.sk-toggleable__label-arrow:hover:before {color: black;}#sk-container-id-6 div.sk-estimator:hover label.sk-toggleable__label-arrow:before {color: black;}#sk-container-id-6 div.sk-toggleable__content {max-height: 0;max-width: 0;overflow: hidden;text-align: left;background-color: #f0f8ff;}#sk-container-id-6 div.sk-toggleable__content pre {margin: 0.2em;color: black;border-radius: 0.25em;background-color: #f0f8ff;}#sk-container-id-6 input.sk-toggleable__control:checked~div.sk-toggleable__content {max-height: 200px;max-width: 100%;overflow: auto;}#sk-container-id-6 input.sk-toggleable__control:checked~label.sk-toggleable__label-arrow:before {content: \"▾\";}#sk-container-id-6 div.sk-estimator input.sk-toggleable__control:checked~label.sk-toggleable__label {background-color: #d4ebff;}#sk-container-id-6 div.sk-label input.sk-toggleable__control:checked~label.sk-toggleable__label {background-color: #d4ebff;}#sk-container-id-6 input.sk-hidden--visually {border: 0;clip: rect(1px 1px 1px 1px);clip: rect(1px, 1px, 1px, 1px);height: 1px;margin: -1px;overflow: hidden;padding: 0;position: absolute;width: 1px;}#sk-container-id-6 div.sk-estimator {font-family: monospace;background-color: #f0f8ff;border: 1px dotted black;border-radius: 0.25em;box-sizing: border-box;margin-bottom: 0.5em;}#sk-container-id-6 div.sk-estimator:hover {background-color: #d4ebff;}#sk-container-id-6 div.sk-parallel-item::after {content: \"\";width: 100%;border-bottom: 1px solid gray;flex-grow: 1;}#sk-container-id-6 div.sk-label:hover label.sk-toggleable__label {background-color: #d4ebff;}#sk-container-id-6 div.sk-serial::before {content: \"\";position: absolute;border-left: 1px solid gray;box-sizing: border-box;top: 0;bottom: 0;left: 50%;z-index: 0;}#sk-container-id-6 div.sk-serial {display: flex;flex-direction: column;align-items: center;background-color: white;padding-right: 0.2em;padding-left: 0.2em;position: relative;}#sk-container-id-6 div.sk-item {position: relative;z-index: 1;}#sk-container-id-6 div.sk-parallel {display: flex;align-items: stretch;justify-content: center;background-color: white;position: relative;}#sk-container-id-6 div.sk-item::before, #sk-container-id-6 div.sk-parallel-item::before {content: \"\";position: absolute;border-left: 1px solid gray;box-sizing: border-box;top: 0;bottom: 0;left: 50%;z-index: -1;}#sk-container-id-6 div.sk-parallel-item {display: flex;flex-direction: column;z-index: 1;position: relative;background-color: white;}#sk-container-id-6 div.sk-parallel-item:first-child::after {align-self: flex-end;width: 50%;}#sk-container-id-6 div.sk-parallel-item:last-child::after {align-self: flex-start;width: 50%;}#sk-container-id-6 div.sk-parallel-item:only-child::after {width: 0;}#sk-container-id-6 div.sk-dashed-wrapped {border: 1px dashed gray;margin: 0 0.4em 0.5em 0.4em;box-sizing: border-box;padding-bottom: 0.4em;background-color: white;}#sk-container-id-6 div.sk-label label {font-family: monospace;font-weight: bold;display: inline-block;line-height: 1.2em;}#sk-container-id-6 div.sk-label-container {text-align: center;}#sk-container-id-6 div.sk-container {/* jupyter's `normalize.less` sets `[hidden] { display: none; }` but bootstrap.min.css set `[hidden] { display: none !important; }` so we also need the `!important` here to be able to override the default hidden behavior on the sphinx rendered scikit-learn.org. See: https://github.com/scikit-learn/scikit-learn/issues/21755 */display: inline-block !important;position: relative;}#sk-container-id-6 div.sk-text-repr-fallback {display: none;}</style><div id=\"sk-container-id-6\" class=\"sk-top-container\"><div class=\"sk-text-repr-fallback\"><pre>KMeans(algorithm=&#x27;full&#x27;, init=&#x27;random&#x27;, n_clusters=5, n_init=20,\n",
              "       random_state=11)</pre><b>In a Jupyter environment, please rerun this cell to show the HTML representation or trust the notebook. <br />On GitHub, the HTML representation is unable to render, please try loading this page with nbviewer.org.</b></div><div class=\"sk-container\" hidden><div class=\"sk-item\"><div class=\"sk-estimator sk-toggleable\"><input class=\"sk-toggleable__control sk-hidden--visually\" id=\"sk-estimator-id-6\" type=\"checkbox\" checked><label for=\"sk-estimator-id-6\" class=\"sk-toggleable__label sk-toggleable__label-arrow\">KMeans</label><div class=\"sk-toggleable__content\"><pre>KMeans(algorithm=&#x27;full&#x27;, init=&#x27;random&#x27;, n_clusters=5, n_init=20,\n",
              "       random_state=11)</pre></div></div></div></div></div>"
            ]
          },
          "metadata": {},
          "execution_count": 102
        }
      ],
      "source": [
        "kmeans = KMeans(n_clusters=5, init=\"random\", n_init=20,\n",
        "                              algorithm=\"full\", random_state=11)\n",
        "kmeans.fit(X_trainNp)"
      ]
    },
    {
      "cell_type": "code",
      "execution_count": 103,
      "metadata": {
        "id": "TQ2KSy4mh_r2",
        "colab": {
          "base_uri": "https://localhost:8080/"
        },
        "outputId": "1de9c814-5be2-417f-85dc-6cc02ea7e34a"
      },
      "outputs": [
        {
          "output_type": "stream",
          "name": "stdout",
          "text": [
            "Precisión de entrenamiento: 22.069474\n"
          ]
        }
      ],
      "source": [
        "y_pred = kmeans.predict(X_trainNp)\n",
        "print('Precisión de entrenamiento: %f' % (np.mean(y_pred == y_trainNp) * 100))"
      ]
    },
    {
      "cell_type": "code",
      "execution_count": 104,
      "metadata": {
        "colab": {
          "base_uri": "https://localhost:8080/"
        },
        "id": "rG4GcWy8iFTg",
        "outputId": "7791175d-a144-4ac8-8403-6e8fc7e30efc"
      },
      "outputs": [
        {
          "output_type": "execute_result",
          "data": {
            "text/plain": [
              "0.4011313217721254"
            ]
          },
          "metadata": {},
          "execution_count": 104
        }
      ],
      "source": [
        "from sklearn.metrics import silhouette_score\n",
        "silhouette_score(X_trainNp, kmeans.labels_)"
      ]
    },
    {
      "cell_type": "markdown",
      "metadata": {
        "id": "SnJMvF3ZlNt-"
      },
      "source": [
        "Mejor cantidad de grupos para clustering"
      ]
    },
    {
      "cell_type": "code",
      "execution_count": 105,
      "metadata": {
        "colab": {
          "base_uri": "https://localhost:8080/",
          "height": 633
        },
        "id": "CsqHE9hzlJda",
        "outputId": "55810269-eb46-432a-ccfa-fdc4b3583172"
      },
      "outputs": [
        {
          "output_type": "stream",
          "name": "stderr",
          "text": [
            "/usr/local/lib/python3.10/dist-packages/sklearn/cluster/_kmeans.py:1366: FutureWarning: algorithm='full' is deprecated, it will be removed in 1.3. Using 'lloyd' instead.\n",
            "  warnings.warn(\n",
            "/usr/local/lib/python3.10/dist-packages/sklearn/cluster/_kmeans.py:1366: FutureWarning: algorithm='full' is deprecated, it will be removed in 1.3. Using 'lloyd' instead.\n",
            "  warnings.warn(\n",
            "/usr/local/lib/python3.10/dist-packages/sklearn/cluster/_kmeans.py:1366: FutureWarning: algorithm='full' is deprecated, it will be removed in 1.3. Using 'lloyd' instead.\n",
            "  warnings.warn(\n",
            "/usr/local/lib/python3.10/dist-packages/sklearn/cluster/_kmeans.py:1366: FutureWarning: algorithm='full' is deprecated, it will be removed in 1.3. Using 'lloyd' instead.\n",
            "  warnings.warn(\n",
            "/usr/local/lib/python3.10/dist-packages/sklearn/cluster/_kmeans.py:1366: FutureWarning: algorithm='full' is deprecated, it will be removed in 1.3. Using 'lloyd' instead.\n",
            "  warnings.warn(\n",
            "/usr/local/lib/python3.10/dist-packages/sklearn/cluster/_kmeans.py:1366: FutureWarning: algorithm='full' is deprecated, it will be removed in 1.3. Using 'lloyd' instead.\n",
            "  warnings.warn(\n",
            "/usr/local/lib/python3.10/dist-packages/sklearn/cluster/_kmeans.py:1366: FutureWarning: algorithm='full' is deprecated, it will be removed in 1.3. Using 'lloyd' instead.\n",
            "  warnings.warn(\n",
            "/usr/local/lib/python3.10/dist-packages/sklearn/cluster/_kmeans.py:1366: FutureWarning: algorithm='full' is deprecated, it will be removed in 1.3. Using 'lloyd' instead.\n",
            "  warnings.warn(\n",
            "/usr/local/lib/python3.10/dist-packages/sklearn/cluster/_kmeans.py:1366: FutureWarning: algorithm='full' is deprecated, it will be removed in 1.3. Using 'lloyd' instead.\n",
            "  warnings.warn(\n"
          ]
        },
        {
          "output_type": "display_data",
          "data": {
            "text/plain": [
              "<Figure size 800x300 with 1 Axes>"
            ],
            "image/png": "[encoded data removed]"
          },
          "metadata": {}
        }
      ],
      "source": [
        "kmeans_per_k = [KMeans(n_clusters=k, init=\"random\", n_init=10, algorithm=\"full\", random_state=11).fit(X_trainNp)\n",
        "                for k in range(1, 10)]\n",
        "\n",
        "silhouette_scores = [silhouette_score(X_trainNp, model.labels_)\n",
        "                     for model in kmeans_per_k[1:]] #se calculan los puntajes de silueta para todos los modelos\n",
        "\n",
        "plt.figure(figsize=(8, 3))\n",
        "plt.plot(range(2, 10), silhouette_scores, \"bo-\") #se grafican los puntajes de silueta con puntos azules\n",
        "plt.xlabel(\"$k$\", fontsize=14)\n",
        "plt.ylabel(\"Silhouette score\", fontsize=14)\n",
        "plt.axis([1.8, 10.0, 0.0, 0.30]) #se establece el rango para el eje x y el eje y\n",
        "plt.show()"
      ]
    },
    {
      "cell_type": "code",
      "execution_count": 106,
      "metadata": {
        "colab": {
          "base_uri": "https://localhost:8080/",
          "height": 797
        },
        "id": "0mnmu_KIlWgB",
        "outputId": "80583761-d008-421d-89b1-21375d526d27"
      },
      "outputs": [
        {
          "output_type": "display_data",
          "data": {
            "text/plain": [
              "<Figure size 1100x900 with 7 Axes>"
            ],
            "image/png": "[encoded data removed]"
          },
          "metadata": {}
        }
      ],
      "source": [
        "from sklearn.metrics import silhouette_samples\n",
        "from matplotlib.ticker import FixedLocator, FixedFormatter\n",
        "import matplotlib as mpl\n",
        "\n",
        "plt.figure(figsize=(11, 9))\n",
        " # número de filas y columnas en la cuadrícula de subgráficos\n",
        "n_rows = 3\n",
        "n_cols = 3\n",
        "\n",
        "for k in (3, 4, 5, 6, 7, 8, 9): #se itera por los valores de k (numero de clusters)\n",
        "    index = k - 3\n",
        "    plt.subplot(n_rows, n_cols, index + 1)\n",
        "\n",
        "    y_pred = kmeans_per_k[k - 1].labels_#se obtienen las etiquetas\n",
        "    silhouette_coefficients = silhouette_samples(X_trainNp, y_pred)\n",
        "\n",
        "    padding = len(X_trainNp) // 30\n",
        "    pos = padding\n",
        "    ticks = []\n",
        "    for i in range(k):\n",
        "        coeffs = silhouette_coefficients[y_pred == i]\n",
        "        coeffs.sort()\n",
        "\n",
        "        color = mpl.cm.Spectral(i / k)\n",
        "        plt.fill_betweenx(np.arange(pos, pos + len(coeffs)), 0, coeffs,\n",
        "                          facecolor=color, edgecolor=color, alpha=0.7)\n",
        "        ticks.append(pos + len(coeffs) // 2)\n",
        "        pos += len(coeffs) + padding\n",
        "\n",
        "    plt.gca().yaxis.set_major_locator(FixedLocator(ticks))\n",
        "    plt.gca().yaxis.set_major_formatter(FixedFormatter(range(k)))\n",
        "    if k in (3, 6, 9):\n",
        "        plt.ylabel(\"Cluster\")\n",
        "\n",
        "    if k in (7, 8, 9):\n",
        "        plt.gca().set_xticks([-0.1, 0, 0.2, 0.4, 0.6, 0.8, 1])\n",
        "        plt.xlabel(\"Silhouette Coefficient\")\n",
        "    else:\n",
        "        plt.tick_params(labelbottom=False)\n",
        "\n",
        "    plt.axvline(x=silhouette_scores[k - 2], color=\"red\", linestyle=\"--\")\n",
        "    plt.title(\"$k={}$\".format(k), fontsize=16)\n",
        "\n",
        "plt.show()"
      ]
    },
    {
      "cell_type": "markdown",
      "metadata": {
        "id": "abCTy8O3me7h"
      },
      "source": [
        "**Aprendizaje SemiSupervisado**"
      ]
    },
    {
      "cell_type": "code",
      "execution_count": 107,
      "metadata": {
        "id": "9OZO7I3dvN9h",
        "colab": {
          "base_uri": "https://localhost:8080/"
        },
        "outputId": "7eec73d8-b7d9-4df9-a6ce-d191e36e51bb"
      },
      "outputs": [
        {
          "output_type": "stream",
          "name": "stderr",
          "text": [
            "/usr/local/lib/python3.10/dist-packages/sklearn/cluster/_kmeans.py:870: FutureWarning: The default value of `n_init` will change from 10 to 'auto' in 1.4. Set the value of `n_init` explicitly to suppress the warning\n",
            "  warnings.warn(\n"
          ]
        }
      ],
      "source": [
        "from sklearn.cluster import KMeans\n",
        "\n",
        "#numero de clusters\n",
        "k = 1000\n",
        "kmeans = KMeans(n_clusters=k, random_state=42)\n",
        "#Calcula la distancia entre los datos y los centroides\n",
        "X_digits_dist = kmeans.fit_transform(X_train)"
      ]
    },
    {
      "cell_type": "markdown",
      "source": [
        "Se obtienen los ejemplos mas representativos para cada uno de los clusters y sus respectivas etiquetas verdaderas."
      ],
      "metadata": {
        "id": "6I1ifcsniMlD"
      }
    },
    {
      "cell_type": "code",
      "execution_count": 108,
      "metadata": {
        "id": "OTwsuaDdvQAo"
      },
      "outputs": [],
      "source": [
        "#calcula los indices de las distancias minimas para cada columna\n",
        "idxs = np.argmin(X_digits_dist, axis=0)\n",
        "X_representative_digits = X_train.values[idxs]"
      ]
    },
    {
      "cell_type": "code",
      "execution_count": 109,
      "metadata": {
        "id": "BBV70Mi2vSVI"
      },
      "outputs": [],
      "source": [
        "#identifica los labels correspondientes a las muestras mas representativas\n",
        "y_representative_digits = y_train.values[idxs]"
      ]
    },
    {
      "cell_type": "code",
      "execution_count": 114,
      "metadata": {
        "id": "_6z1OA5DvUc2",
        "colab": {
          "base_uri": "https://localhost:8080/"
        },
        "outputId": "ea5f6d77-17c4-4c40-9872-1cdfdbb03a94"
      },
      "outputs": [
        {
          "output_type": "stream",
          "name": "stdout",
          "text": [
            "CPU times: user 543 ms, sys: 2.3 ms, total: 545 ms\n",
            "Wall time: 572 ms\n"
          ]
        },
        {
          "output_type": "stream",
          "name": "stderr",
          "text": [
            "/usr/local/lib/python3.10/dist-packages/sklearn/base.py:432: UserWarning: X has feature names, but LogisticRegression was fitted without feature names\n",
            "  warnings.warn(\n"
          ]
        },
        {
          "output_type": "execute_result",
          "data": {
            "text/plain": [
              "0.7356716625034694"
            ]
          },
          "metadata": {},
          "execution_count": 114
        }
      ],
      "source": [
        "#entrenamiento de un modelo de regresion logistica con one vs all con los datos mas representativos y se hace una prueba de precision.\n",
        "from sklearn.linear_model import LogisticRegression\n",
        "\n",
        "\n",
        "log_reg2 = LogisticRegression(multi_class=\"ovr\", solver=\"lbfgs\", max_iter=5000, random_state=42)\n",
        "%time log_reg2.fit(X_representative_digits, y_representative_digits) #entrena un modelo con los datos y labels representativos\n",
        "log_reg2.score(X_test, y_test)"
      ]
    },
    {
      "cell_type": "code",
      "execution_count": 118,
      "metadata": {
        "id": "UtJiGW9fvWZ1",
        "colab": {
          "base_uri": "https://localhost:8080/"
        },
        "outputId": "b2bf821f-3d59-459d-a7b6-59cdafbe196b"
      },
      "outputs": [
        {
          "output_type": "stream",
          "name": "stdout",
          "text": [
            "CPU times: user 17.8 s, sys: 9.74 s, total: 27.5 s\n",
            "Wall time: 20.6 s\n"
          ]
        },
        {
          "output_type": "execute_result",
          "data": {
            "text/plain": [
              "0.9261032472939217"
            ]
          },
          "metadata": {},
          "execution_count": 118
        }
      ],
      "source": [
        "#entrenamiento de otro modelo del mismo tipo del anterior pero directamente con las etiquetas reales del dataset.\n",
        "log_reg = LogisticRegression(multi_class=\"ovr\", solver=\"lbfgs\", max_iter=5000, random_state=42)\n",
        "%time log_reg.fit(X_train, y_train)\n",
        "log_reg.score(X_test, y_test)"
      ]
    },
    {
      "cell_type": "code",
      "execution_count": null,
      "metadata": {
        "id": "gCrzpIMvvYwA"
      },
      "outputs": [],
      "source": [
        "#Segun las etiquetas mas representativas ya clasificadas manualmente hacemos una proparagacion en base a su etiqueta a todos los demas ejemplos de sus clusters.\n",
        "y_train_propagated = np.empty(len(X_train))\n",
        "for i in range(k):\n",
        "  y_train_propagated[kmeans.labels_==i] = y_representative_digits[i]"
      ]
    },
    {
      "cell_type": "code",
      "execution_count": null,
      "metadata": {
        "id": "r2RWyLUGvbQ4"
      },
      "outputs": [],
      "source": [
        "#Se entrena otro modelo con las etiquetas propagadas y vemos su presicion\n",
        "log_reg3 = LogisticRegression(multi_class=\"ovr\", solver=\"lbfgs\", max_iter=5000, random_state=42)\n",
        "%time log_reg3.fit(X_train, y_train_propagated)\n",
        "log_reg3.score(X_test, y_test)"
      ]
    },
    {
      "cell_type": "markdown",
      "metadata": {
        "id": "6WNew7-HptDy"
      },
      "source": [
        "**Aprendizaje Activo**"
      ]
    },
    {
      "cell_type": "code",
      "execution_count": null,
      "metadata": {
        "id": "aeEIF-VDvgpx"
      },
      "outputs": [],
      "source": [
        "#se obtienen las probabilidades de que las primeras 1000 muestras pertenezcan a cada clase posible\n",
        "probas = log_reg3.predict_proba(X_train)\n",
        "labels_ixs = np.argmax(probas, axis=1)\n",
        "labels = np.array([proba[ix] for proba, ix in zip(probas, labels_ixs)])\n",
        "sorted_ixs = np.argsort(labels)\n",
        "labels[sorted_ixs[:10]] #se muestran las 10 muestras con las menores probabilidades maximas"
      ]
    },
    {
      "cell_type": "markdown",
      "metadata": {
        "id": "aJgns6Y2vlEp"
      },
      "source": [
        "obtiene las etiquetas de las k muestras con las menores probabilidades maximas de ser clasificadas correctamente"
      ]
    },
    {
      "cell_type": "code",
      "execution_count": 116,
      "metadata": {
        "id": "N4xYuaGTvnJJ",
        "colab": {
          "base_uri": "https://localhost:8080/"
        },
        "outputId": "c8e7c106-867d-4f3b-c1ef-75a1fc6150f2"
      },
      "outputs": [
        {
          "output_type": "execute_result",
          "data": {
            "text/plain": [
              "array([3., 1., 3., 3., 1., 2., 3., 1., 1., 3., 3., 2., 3., 1., 1., 2., 0.,\n",
              "       0., 2., 2., 1., 1., 3., 3., 2., 3., 3., 1., 0., 2., 2., 3., 3., 2.,\n",
              "       3., 3., 3., 2., 3., 3., 3., 1., 1., 1., 1., 0., 1., 1., 0., 0., 3.,\n",
              "       1., 3., 1., 0., 2., 3., 3., 3., 3., 1., 2., 3., 4., 3., 1., 1., 3.,\n",
              "       1., 2., 2., 1., 1., 2., 1., 4., 3., 1., 2., 0., 2., 1., 2., 1., 1.,\n",
              "       4., 3., 1., 4., 1., 2., 1., 2., 2., 3., 3., 3., 2., 1., 3., 1., 1.,\n",
              "       2., 3., 1., 0., 3., 3., 2., 3., 1., 2., 3., 0., 0., 2., 2., 0., 1.,\n",
              "       2., 0., 1., 0., 2., 1., 3., 1., 3., 3., 2., 3., 3., 2., 2., 2., 2.,\n",
              "       1., 1., 1., 1., 0., 2., 1., 0., 2., 1., 3., 4., 3., 3., 0., 1., 3.,\n",
              "       2., 3., 1., 1., 1., 2., 2., 3., 0., 1., 0., 1., 1., 2., 3., 1., 4.,\n",
              "       2., 0., 0., 2., 1., 1., 0., 2., 1., 3., 2., 3., 3., 4., 1., 2., 3.,\n",
              "       3., 1., 3., 1., 0., 2., 3., 0., 2., 1., 2., 2., 0., 2., 2., 0., 1.,\n",
              "       1., 3., 1., 2., 3., 1., 2., 1., 0., 0., 1., 2., 3., 0., 1., 1., 1.,\n",
              "       3., 1., 0., 2., 0., 0., 2., 2., 3., 4., 3., 3., 1., 1., 0., 3., 0.,\n",
              "       1., 1., 1., 0., 2., 1., 0., 0., 4., 0., 2., 3., 0., 3., 0., 1., 1.,\n",
              "       3., 4., 3., 2., 3., 1., 0., 3., 4., 3., 1., 3., 3., 1., 2., 2., 1.,\n",
              "       0., 1., 2., 3., 2., 2., 1., 3., 3., 1., 2., 2., 1., 1., 2., 3., 3.,\n",
              "       0., 2., 0., 1., 2., 3., 2., 1., 1., 4., 0., 1., 0., 0., 0., 4., 3.,\n",
              "       3., 3., 1., 0., 0., 0., 4., 1., 0., 1., 1., 1., 1., 3., 2., 1., 3.,\n",
              "       1., 2., 3., 1., 0., 2., 0., 1., 1., 4., 2., 3., 0., 2., 4., 3., 2.,\n",
              "       4., 3., 0., 1., 1., 1., 2., 2., 1., 1., 0., 2., 2., 2., 3., 3., 2.,\n",
              "       0., 2., 2., 4., 3., 2., 1., 2., 1., 1., 1., 1., 3., 2., 3., 0., 2.,\n",
              "       2., 1., 3., 2., 3., 0., 2., 4., 2., 2., 2., 3., 3., 4., 0., 2., 3.,\n",
              "       0., 3., 0., 2., 2., 4., 0., 3., 2., 3., 1., 2., 2., 2., 1., 3., 1.,\n",
              "       1., 2., 1., 0., 1., 0., 1., 3., 2., 3., 0., 4., 3., 3., 2., 3., 2.,\n",
              "       4., 1., 4., 4., 2., 3., 2., 4., 0., 1., 1., 1., 2., 2., 1., 2., 3.,\n",
              "       2., 3., 2., 2., 0., 3., 0., 2., 3., 3., 1., 3., 3., 3., 3., 3., 2.,\n",
              "       0., 1., 0., 1., 2., 3., 1., 2., 1., 0., 3., 2., 2., 1., 1., 3., 1.,\n",
              "       2., 2., 2., 1., 4., 3., 2., 4., 3., 3., 0., 2., 2., 3., 2., 2., 1.,\n",
              "       1., 1., 1., 1., 0., 1., 1., 0., 1., 1., 2., 1., 1., 1., 3., 1., 1.,\n",
              "       1., 0., 3., 1., 2., 1., 4., 2., 2., 0., 2., 3., 4., 0., 1., 0., 1.,\n",
              "       2., 4., 3., 0., 3., 0., 3., 3., 2., 0., 1., 2., 1., 2., 1., 3., 0.,\n",
              "       1., 4., 1., 4., 4., 1., 0., 1., 0., 2., 1., 1., 0., 0., 3., 1., 3.,\n",
              "       2., 4., 2., 1., 2., 3., 3., 3., 2., 1., 2., 3., 2., 2., 3., 0., 1.,\n",
              "       0., 4., 3., 2., 3., 1., 0., 3., 2., 0., 1., 1., 1., 0., 4., 1., 3.,\n",
              "       4., 3., 3., 3., 2., 1., 2., 1., 2., 2., 3., 4., 0., 2., 0., 1., 0.,\n",
              "       0., 2., 1., 1., 3., 1., 1., 1., 2., 3., 4., 1., 2., 2., 1., 1., 3.,\n",
              "       2., 1., 3., 2., 2., 2., 3., 1., 3., 4., 2., 2., 1., 1., 1., 0., 1.,\n",
              "       3., 1., 4., 2., 2., 3., 0., 1., 3., 1., 2., 3., 1., 3., 2., 2., 1.,\n",
              "       3., 2., 0., 0., 2., 2., 0., 2., 1., 3., 1., 3., 4., 0., 0., 1., 1.,\n",
              "       3., 1., 2., 1., 1., 1., 2., 1., 3., 3., 1., 3., 2., 2., 4., 0., 1.,\n",
              "       3., 1., 4., 1., 0., 2., 3., 1., 1., 1., 2., 2., 3., 3., 4., 4., 2.,\n",
              "       1., 3., 0., 3., 2., 0., 3., 0., 1., 3., 2., 1., 3., 2., 1., 2., 2.,\n",
              "       2., 3., 3., 1., 3., 0., 1., 1., 2., 2., 2., 1., 0., 1., 2., 1., 2.,\n",
              "       3., 1., 2., 3., 1., 0., 2., 2., 0., 0., 1., 1., 2., 4., 0., 3., 2.,\n",
              "       3., 1., 1., 2., 3., 1., 4., 2., 0., 3., 2., 3., 1., 2., 3., 3., 4.,\n",
              "       1., 0., 3., 3., 1., 3., 0., 1., 1., 1., 1., 0., 0., 1., 3., 0., 1.,\n",
              "       0., 0., 4., 2., 2., 1., 0., 2., 2., 2., 1., 2., 3., 2., 0., 0., 2.,\n",
              "       2., 2., 3., 4., 3., 4., 0., 2., 0., 1., 4., 4., 1., 1., 1., 1., 2.,\n",
              "       3., 1., 1., 2., 4., 3., 0., 4., 1., 0., 2., 4., 2., 0., 1., 3., 3.,\n",
              "       1., 2., 2., 4., 1., 2., 4., 1., 2., 1., 0., 3., 1., 0., 3., 1., 2.,\n",
              "       3., 1., 1., 1., 2., 3., 0., 1., 1., 3., 3., 2., 2., 0., 0., 1., 3.,\n",
              "       4., 1., 2., 3., 0., 1., 1., 0., 0., 2., 0., 1., 1., 3., 1., 1., 0.,\n",
              "       3., 4., 2., 1., 0., 2., 1., 0., 1., 4., 0., 2., 2., 2., 2., 3., 3.,\n",
              "       1., 2., 0., 0., 2., 4., 4., 2., 3., 3., 2., 2., 0., 1., 2., 2., 1.,\n",
              "       1., 1., 4., 2., 0., 3., 3., 2., 0., 1., 4., 0., 1., 3., 1., 0., 0.,\n",
              "       2., 4., 1., 3., 3., 0., 2., 0., 1., 3., 3., 2., 0., 2., 2., 1., 1.,\n",
              "       1., 0., 2., 4., 0., 0., 1., 4., 1., 2., 4., 2., 1., 1., 0., 0., 2.,\n",
              "       1., 2., 2., 1., 1., 4., 2., 1., 3., 3., 1., 0., 3., 1.])"
            ]
          },
          "metadata": {},
          "execution_count": 116
        }
      ],
      "source": [
        "#obtiene las etiquetas de las k muestras con las menores probabilidades maximas de ser clasificadas correctamente\n",
        "y_lowest = y_train.values[:][sorted_ixs[:k]]\n",
        "y_lowest"
      ]
    },
    {
      "cell_type": "code",
      "execution_count": null,
      "metadata": {
        "id": "6RpnP54Dvo5i"
      },
      "outputs": [],
      "source": [
        "y_train2 = y_train_propagated.copy() #copia las filas de las y propagadas\n",
        "y_train2[sorted_ixs[:k]] = y_lowest"
      ]
    },
    {
      "cell_type": "code",
      "execution_count": 117,
      "metadata": {
        "id": "8bOcFCR4vqq5",
        "colab": {
          "base_uri": "https://localhost:8080/"
        },
        "outputId": "44c00c17-e667-4409-a15b-88d6a4b04da8"
      },
      "outputs": [
        {
          "output_type": "stream",
          "name": "stdout",
          "text": [
            "CPU times: user 11.7 s, sys: 6.93 s, total: 18.6 s\n",
            "Wall time: 12.1 s\n"
          ]
        },
        {
          "output_type": "execute_result",
          "data": {
            "text/plain": [
              "0.2624548986955315"
            ]
          },
          "metadata": {},
          "execution_count": 117
        }
      ],
      "source": [
        "log_reg5 = LogisticRegression(multi_class=\"ovr\", solver=\"lbfgs\", max_iter=5000, random_state=42)\n",
        "%time log_reg5.fit(X_train, y_train2)\n",
        "log_reg5.score(X_test, y_test)"
      ]
    }
  ],
  "metadata": {
    "colab": {
      "provenance": []
    },
    "kernelspec": {
      "display_name": "Python 3",
      "name": "python3"
    },
    "language_info": {
      "name": "python"
    }
  },
  "nbformat": 4,
  "nbformat_minor": 0
}