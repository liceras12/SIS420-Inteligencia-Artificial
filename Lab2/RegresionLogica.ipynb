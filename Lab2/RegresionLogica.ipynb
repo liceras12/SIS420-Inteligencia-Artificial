{
  "nbformat": 4,
  "nbformat_minor": 0,
  "metadata": {
    "colab": {
      "provenance": []
    },
    "kernelspec": {
      "name": "python3",
      "display_name": "Python 3"
    },
    "language_info": {
      "name": "python"
    }
  },
  "cells": [
    {
      "cell_type": "code",
      "execution_count": 116,
      "metadata": {
        "id": "CrJi8GFNKATX",
        "colab": {
          "base_uri": "https://localhost:8080/"
        },
        "outputId": "e0a53d06-380d-42ae-8ccb-d7e97c02ea42"
      },
      "outputs": [
        {
          "output_type": "stream",
          "name": "stdout",
          "text": [
            "Drive already mounted at /content/drive; to attempt to forcibly remount, call drive.mount(\"/content/drive\", force_remount=True).\n"
          ]
        }
      ],
      "source": [
        "from google.colab import drive\n",
        "drive.mount('/content/drive')"
      ]
    },
    {
      "cell_type": "markdown",
      "source": [
        "importamos las librerias necesarias"
      ],
      "metadata": {
        "id": "BB3EQZeGbt8S"
      }
    },
    {
      "cell_type": "code",
      "source": [
        "import os\n",
        "\n",
        "import numpy as np\n",
        "\n",
        "from matplotlib import pyplot\n",
        "\n",
        "from scipy import optimize\n",
        "\n",
        "%matplotlib inline\n",
        "\n",
        "import pandas as pd\n",
        "import sklearn as skl\n",
        "\n",
        "from sklearn.preprocessing import StandardScaler"
      ],
      "metadata": {
        "id": "7zhk0P-GbgPS"
      },
      "execution_count": 117,
      "outputs": []
    },
    {
      "cell_type": "markdown",
      "source": [
        "Recibimos el dataset y aplicamos la lectura de datos"
      ],
      "metadata": {
        "id": "PT2XUTVMI3Ya"
      }
    },
    {
      "cell_type": "code",
      "source": [
        "url = \"/content/drive/MyDrive/Colab Notebooks/Datasets/panic_disorder_dataset_testing_Pandas.csv\"\n",
        "dataframe = pd.read_csv(url)\n",
        "print(dataframe)"
      ],
      "metadata": {
        "id": "gy8ehlDShrvT",
        "colab": {
          "base_uri": "https://localhost:8080/"
        },
        "outputId": "2697ef81-b27c-4a45-be36-f999c3735fce"
      },
      "execution_count": 118,
      "outputs": [
        {
          "output_type": "stream",
          "name": "stdout",
          "text": [
            "       Age  Gender  Family History  Personal History  Current Stressors  \\\n",
            "0       41       1               1                 0                  9   \n",
            "1       20       2               1                 0                  1   \n",
            "2       32       1               1                 1                  8   \n",
            "3       41       2               1                 1                  5   \n",
            "4       36       2               1                 0                  8   \n",
            "...    ...     ...             ...               ...                ...   \n",
            "19995   31       2               1                 1                  8   \n",
            "19996   27       1               0                 1                  7   \n",
            "19997   21       2               0                 0                  4   \n",
            "19998   28       1               0                 1                  5   \n",
            "19999   22       2               0                 1                  6   \n",
            "\n",
            "       Symptoms  Severity  Impact on Life  Demographics  Medical History  \\\n",
            "0             1         1               1             1                1   \n",
            "1             1         1               3             1                2   \n",
            "2             2         3               1             2                3   \n",
            "3             1         2               3             1                3   \n",
            "4             3         3               3             2                2   \n",
            "...         ...       ...             ...           ...              ...   \n",
            "19995         3         2               2             2                3   \n",
            "19996         2         1               2             2                2   \n",
            "19997         4         2               3             1                2   \n",
            "19998         4         1               3             2                3   \n",
            "19999         4         3               3             1                1   \n",
            "\n",
            "       Psychiatric History  Substance Use  Coping Mechanisms  Social Support  \\\n",
            "0                        1              1                  1               1   \n",
            "1                        2              2                  2               3   \n",
            "2                        1              2                  3               2   \n",
            "3                        2              0                  2               3   \n",
            "4                        3              0                  1               1   \n",
            "...                    ...            ...                ...             ...   \n",
            "19995                    1              0                  2               2   \n",
            "19996                    1              1                  2               3   \n",
            "19997                    2              1                  4               2   \n",
            "19998                    2              0                  3               2   \n",
            "19999                    1              1                  1               1   \n",
            "\n",
            "       Lifestyle Factors  Panic Disorder Diagnosis  \n",
            "0                      1                         0  \n",
            "1                      2                         0  \n",
            "2                      1                         0  \n",
            "3                      3                         0  \n",
            "4                      1                         0  \n",
            "...                  ...                       ...  \n",
            "19995                  3                         0  \n",
            "19996                  2                         0  \n",
            "19997                  2                         0  \n",
            "19998                  3                         0  \n",
            "19999                  3                         1  \n",
            "\n",
            "[20000 rows x 16 columns]\n"
          ]
        }
      ]
    },
    {
      "cell_type": "code",
      "source": [
        "print(dataframe.describe())"
      ],
      "metadata": {
        "colab": {
          "base_uri": "https://localhost:8080/"
        },
        "id": "KOy5FxF0jDfC",
        "outputId": "521efc82-482a-45b1-cbb0-6b95d9d19306"
      },
      "execution_count": 119,
      "outputs": [
        {
          "output_type": "stream",
          "name": "stdout",
          "text": [
            "                Age        Gender  Family History  Personal History  \\\n",
            "count  20000.000000  20000.000000    20000.000000      20000.000000   \n",
            "mean      41.489250      1.502200        0.497850          0.501350   \n",
            "std       13.887773      0.500008        0.500008          0.500011   \n",
            "min       18.000000      1.000000        0.000000          0.000000   \n",
            "25%       29.000000      1.000000        0.000000          0.000000   \n",
            "50%       42.000000      2.000000        0.000000          1.000000   \n",
            "75%       54.000000      2.000000        1.000000          1.000000   \n",
            "max       65.000000      2.000000        1.000000          1.000000   \n",
            "\n",
            "       Current Stressors      Symptoms     Severity  Impact on Life  \\\n",
            "count       20000.000000  20000.000000  20000.00000    20000.000000   \n",
            "mean            5.148550      2.802150      1.99380        2.020150   \n",
            "std             2.462273      1.162787      0.81492        0.816564   \n",
            "min             1.000000      1.000000      1.00000        1.000000   \n",
            "25%             3.000000      2.000000      1.00000        1.000000   \n",
            "50%             5.000000      3.000000      2.00000        2.000000   \n",
            "75%             7.000000      4.000000      3.00000        3.000000   \n",
            "max            10.000000      4.000000      3.00000        3.000000   \n",
            "\n",
            "       Demographics  Medical History  Psychiatric History  Substance Use  \\\n",
            "count  20000.000000     20000.000000         20000.000000   20000.000000   \n",
            "mean       1.495950         1.501100             1.503000       1.004250   \n",
            "std        0.499996         1.118553             1.119041       0.816067   \n",
            "min        1.000000         0.000000             0.000000       0.000000   \n",
            "25%        1.000000         0.000000             1.000000       0.000000   \n",
            "50%        1.000000         2.000000             2.000000       1.000000   \n",
            "75%        2.000000         3.000000             3.000000       2.000000   \n",
            "max        2.000000         3.000000             3.000000       2.000000   \n",
            "\n",
            "       Coping Mechanisms  Social Support  Lifestyle Factors  \\\n",
            "count       20000.000000    20000.000000       20000.000000   \n",
            "mean            2.516250        1.998700           2.005600   \n",
            "std             1.122719        0.816965           0.819391   \n",
            "min             1.000000        1.000000           1.000000   \n",
            "25%             2.000000        1.000000           1.000000   \n",
            "50%             3.000000        2.000000           2.000000   \n",
            "75%             4.000000        3.000000           3.000000   \n",
            "max             4.000000        3.000000           3.000000   \n",
            "\n",
            "       Panic Disorder Diagnosis  \n",
            "count              20000.000000  \n",
            "mean                   0.042050  \n",
            "std                    0.200708  \n",
            "min                    0.000000  \n",
            "25%                    0.000000  \n",
            "50%                    0.000000  \n",
            "75%                    0.000000  \n",
            "max                    1.000000  \n"
          ]
        }
      ]
    },
    {
      "cell_type": "markdown",
      "source": [
        "Separamos los datos X y los datos Y"
      ],
      "metadata": {
        "id": "7JrTds5hJEPf"
      }
    },
    {
      "cell_type": "code",
      "source": [
        "dataset = dataframe.drop(\"Panic Disorder Diagnosis\", axis=1)\n",
        "label = dataframe[\"Panic Disorder Diagnosis\"].copy()"
      ],
      "metadata": {
        "id": "pFzpOgoLjgLC"
      },
      "execution_count": 120,
      "outputs": []
    },
    {
      "cell_type": "code",
      "source": [
        "from sklearn.preprocessing import MinMaxScaler\n",
        "\n",
        "min_max_scaler = MinMaxScaler()\n",
        "l_values = dataframe[['Current Stressors']]\n",
        "scaled_values = min_max_scaler.fit(l_values)\n",
        "print(min_max_scaler.transform(l_values)[0:10])"
      ],
      "metadata": {
        "colab": {
          "base_uri": "https://localhost:8080/"
        },
        "id": "qnTuOnZimSZS",
        "outputId": "e6206419-4390-47ac-b54a-e3e48e07f121"
      },
      "execution_count": 121,
      "outputs": [
        {
          "output_type": "stream",
          "name": "stdout",
          "text": [
            "[[0.88888889]\n",
            " [0.        ]\n",
            " [0.77777778]\n",
            " [0.44444444]\n",
            " [0.77777778]\n",
            " [0.44444444]\n",
            " [0.77777778]\n",
            " [0.88888889]\n",
            " [0.        ]\n",
            " [0.66666667]]\n"
          ]
        }
      ]
    },
    {
      "cell_type": "markdown",
      "source": [
        "Agregar las funciones necesarias"
      ],
      "metadata": {
        "id": "qTZx4RMfkZtl"
      }
    },
    {
      "cell_type": "code",
      "source": [
        "def sigmoid(z):\n",
        "    return 1 / (1 + np.exp(-z))"
      ],
      "metadata": {
        "id": "AP5nyyUQkb3N"
      },
      "execution_count": 122,
      "outputs": []
    },
    {
      "cell_type": "code",
      "source": [
        "def calculate_cost(theta, X, y):\n",
        "    m = len(y)\n",
        "    h = sigmoid(X.dot(theta))\n",
        "    cost = (1/m) * (-y.T.dot(np.log(h)) - (1 - y).T.dot(np.log(1 - h)))\n",
        "    return cost"
      ],
      "metadata": {
        "id": "gHbnWSXqkfVV"
      },
      "execution_count": 123,
      "outputs": []
    },
    {
      "cell_type": "code",
      "source": [
        "def gradient(theta, X, y):\n",
        "    m = len(y)\n",
        "    h = sigmoid(X.dot(theta))\n",
        "    grad = (1/m) * np.dot(X.T, (h - y))\n",
        "    return grad"
      ],
      "metadata": {
        "id": "W55FeTLykhcO"
      },
      "execution_count": 124,
      "outputs": []
    },
    {
      "cell_type": "code",
      "source": [
        "def gradient_descent(X, y, theta, alpha, num_iters):\n",
        "    m = len(y)\n",
        "    J_history = []\n",
        "    for i in range(num_iters):\n",
        "        theta -= alpha * gradient(theta, X, y)\n",
        "        J_history.append(calculate_cost(theta, X, y))\n",
        "    return theta, J_history"
      ],
      "metadata": {
        "id": "EgKScHWdkjb-"
      },
      "execution_count": 125,
      "outputs": []
    },
    {
      "cell_type": "code",
      "source": [
        "def feature_normalize(X):\n",
        "    X_norm = X.copy()\n",
        "    mu = np.mean(X, axis=0)\n",
        "    sigma = np.std(X, axis=0)\n",
        "    X_norm = (X - mu) / sigma\n",
        "    return X_norm, mu, sigma"
      ],
      "metadata": {
        "id": "gE9WE5LX1QhC"
      },
      "execution_count": 126,
      "outputs": []
    },
    {
      "cell_type": "markdown",
      "source": [
        "Dividir los datos de entrenamiento y prueba, 80 y 20 %"
      ],
      "metadata": {
        "id": "SgLA59CQjw5f"
      }
    },
    {
      "cell_type": "code",
      "source": [
        "from sklearn.model_selection import train_test_split\n",
        "X_train, X_test, y_train, y_test = train_test_split(dataset, label, test_size=0.2, random_state=42)"
      ],
      "metadata": {
        "id": "9nl_kIcTrRzS"
      },
      "execution_count": 127,
      "outputs": []
    },
    {
      "cell_type": "markdown",
      "source": [
        "Normalizar los datos"
      ],
      "metadata": {
        "id": "HCkL-7P9j5K-"
      }
    },
    {
      "cell_type": "code",
      "source": [
        "scaler = StandardScaler()\n",
        "X_train_norm = scaler.fit_transform(X_train)\n",
        "X_test_norm = scaler.transform(X_test)"
      ],
      "metadata": {
        "id": "gmWdFc57e9m_"
      },
      "execution_count": 128,
      "outputs": []
    },
    {
      "cell_type": "code",
      "source": [
        "X_train_norm = np.c_[np.ones((X_train_norm.shape[0], 1)), X_train_norm]\n",
        "X_test_norm = np.c_[np.ones((X_test_norm.shape[0], 1)), X_test_norm]"
      ],
      "metadata": {
        "id": "bA28ZdJEkEU9"
      },
      "execution_count": 129,
      "outputs": []
    },
    {
      "cell_type": "markdown",
      "source": [
        "Ajustar valores alpha e iteraciones"
      ],
      "metadata": {
        "id": "6FFF4_SPmHch"
      }
    },
    {
      "cell_type": "code",
      "source": [
        "alpha = 0.01\n",
        "num_iters = 10000"
      ],
      "metadata": {
        "id": "_MSKc7VElLLH"
      },
      "execution_count": 130,
      "outputs": []
    },
    {
      "cell_type": "code",
      "source": [
        "theta = np.zeros(X_train_norm.shape[1])"
      ],
      "metadata": {
        "id": "11NWXcA4lMju"
      },
      "execution_count": 131,
      "outputs": []
    },
    {
      "cell_type": "code",
      "source": [
        "theta, J_history = gradient_descent(X_train_norm, y_train, theta, alpha, num_iters)\n"
      ],
      "metadata": {
        "id": "eRBOmDf8lQP2"
      },
      "execution_count": 132,
      "outputs": []
    },
    {
      "cell_type": "markdown",
      "source": [
        "Calculamos el indice de prediccion del modelo"
      ],
      "metadata": {
        "id": "J5Y3ngdEJP1_"
      }
    },
    {
      "cell_type": "code",
      "source": [
        "predictions = sigmoid(np.dot(X_test_norm, theta))\n",
        "predictions[predictions >= 0.5] = 1\n",
        "predictions[predictions < 0.5] = 0\n",
        "accuracy = np.mean(predictions == y_test)\n",
        "print(\"Precisión del modelo:\", accuracy)"
      ],
      "metadata": {
        "colab": {
          "base_uri": "https://localhost:8080/"
        },
        "id": "r8Ul6WohlUsO",
        "outputId": "405cccfd-f853-4ddb-995a-8fec0ff9213f"
      },
      "execution_count": 133,
      "outputs": [
        {
          "output_type": "stream",
          "name": "stdout",
          "text": [
            "Precisión del modelo: 0.95925\n"
          ]
        }
      ]
    },
    {
      "cell_type": "code",
      "source": [
        "pyplot.plot(range(num_iters), J_history)\n",
        "pyplot.xlabel('Número de Iteraciones')\n",
        "pyplot.ylabel('Costo')\n",
        "pyplot.title('Convergencia del Gradiente Descendente')\n",
        "pyplot.show()\n",
        "print('theta calculado por el descenso por el gradiente: {:s}'.format(str(theta)))"
      ],
      "metadata": {
        "colab": {
          "base_uri": "https://localhost:8080/",
          "height": 524
        },
        "id": "lPMtdb9GlX7O",
        "outputId": "ff4642c7-4b20-4d6c-8d6f-3f0615842a9a"
      },
      "execution_count": 134,
      "outputs": [
        {
          "output_type": "display_data",
          "data": {
            "text/plain": [
              "<Figure size 640x480 with 1 Axes>"
            ],
            "image/png": "[encoded data removed]"
          },
          "metadata": {}
        },
        {
          "output_type": "stream",
          "name": "stdout",
          "text": [
            "theta calculado por el descenso por el gradiente: [-3.94445895  0.01709265  0.03840314  0.29340543  0.30116521  0.61202628\n",
            " -0.14509634  0.41881617  0.4674998   0.1316917   0.22006828  0.10040812\n",
            "  0.08707573  0.09912471 -0.08308614  1.27478444]\n"
          ]
        }
      ]
    },
    {
      "cell_type": "code",
      "source": [
        "print(X_test)\n",
        "print(theta)"
      ],
      "metadata": {
        "colab": {
          "base_uri": "https://localhost:8080/"
        },
        "id": "i31WNrZxDxBW",
        "outputId": "3b2dee84-dc66-4ed0-c104-ba6f9035f0c8"
      },
      "execution_count": 135,
      "outputs": [
        {
          "output_type": "stream",
          "name": "stdout",
          "text": [
            "       Age  Gender  Family History  Personal History  Current Stressors  \\\n",
            "10650   63       2               0                 0                  6   \n",
            "2041    50       1               0                 0                  7   \n",
            "8668    22       1               1                 1                  4   \n",
            "1114    55       2               1                 1                  8   \n",
            "13902   48       1               0                 1                  4   \n",
            "...    ...     ...             ...               ...                ...   \n",
            "4073    60       2               0                 0                  5   \n",
            "7442    43       1               1                 0                  6   \n",
            "9999    21       1               0                 0                  3   \n",
            "1870    36       2               0                 1                  4   \n",
            "15196   61       2               1                 1                  3   \n",
            "\n",
            "       Symptoms  Severity  Impact on Life  Demographics  Medical History  \\\n",
            "10650         3         2               3             1                0   \n",
            "2041          2         1               3             1                2   \n",
            "8668          4         3               3             1                0   \n",
            "1114          4         2               2             2                2   \n",
            "13902         4         2               3             1                0   \n",
            "...         ...       ...             ...           ...              ...   \n",
            "4073          3         2               2             2                0   \n",
            "7442          4         2               1             1                0   \n",
            "9999          1         2               2             2                1   \n",
            "1870          2         3               3             2                0   \n",
            "15196         1         3               1             2                2   \n",
            "\n",
            "       Psychiatric History  Substance Use  Coping Mechanisms  Social Support  \\\n",
            "10650                    3              2                  3               1   \n",
            "2041                     1              2                  3               2   \n",
            "8668                     3              0                  2               1   \n",
            "1114                     0              1                  4               3   \n",
            "13902                    3              2                  1               1   \n",
            "...                    ...            ...                ...             ...   \n",
            "4073                     3              0                  3               3   \n",
            "7442                     0              1                  1               3   \n",
            "9999                     0              2                  2               3   \n",
            "1870                     2              0                  1               1   \n",
            "15196                    3              0                  3               1   \n",
            "\n",
            "       Lifestyle Factors  \n",
            "10650                  2  \n",
            "2041                   3  \n",
            "8668                   3  \n",
            "1114                   3  \n",
            "13902                  1  \n",
            "...                  ...  \n",
            "4073                   2  \n",
            "7442                   2  \n",
            "9999                   2  \n",
            "1870                   3  \n",
            "15196                  3  \n",
            "\n",
            "[4000 rows x 15 columns]\n",
            "[-3.94445895  0.01709265  0.03840314  0.29340543  0.30116521  0.61202628\n",
            " -0.14509634  0.41881617  0.4674998   0.1316917   0.22006828  0.10040812\n",
            "  0.08707573  0.09912471 -0.08308614  1.27478444]\n"
          ]
        }
      ]
    },
    {
      "cell_type": "markdown",
      "source": [
        "Prueba o testeo de datos"
      ],
      "metadata": {
        "id": "sZX4LD60F5Dt"
      }
    },
    {
      "cell_type": "code",
      "source": [
        "X_test_norm, mu, sigma = feature_normalize(X_test)"
      ],
      "metadata": {
        "id": "FhkjPRuV01NQ"
      },
      "execution_count": 136,
      "outputs": []
    },
    {
      "cell_type": "code",
      "source": [
        "m, n = X_test_norm.shape\n",
        "X_test_norm = np.concatenate([np.ones((m, 1)), X_test_norm], axis=1)"
      ],
      "metadata": {
        "id": "5U_kY7Tl2ltD"
      },
      "execution_count": 137,
      "outputs": []
    },
    {
      "cell_type": "code",
      "source": [
        "diagnostico = sigmoid(np.dot(X_test_norm, theta))"
      ],
      "metadata": {
        "id": "H4YJO3RJ2oHK"
      },
      "execution_count": 138,
      "outputs": []
    },
    {
      "cell_type": "code",
      "source": [
        "datos_persona = [56, 2, 1, 1, 2, 1, 2, 1, 2, 3, 2, 2, 2, 3, 1]"
      ],
      "metadata": {
        "id": "h2L4s3TE7loy"
      },
      "execution_count": 139,
      "outputs": []
    },
    {
      "cell_type": "code",
      "source": [
        "datos_persona_norm = (datos_persona - mu) / sigma"
      ],
      "metadata": {
        "id": "UEJVLimk7uth"
      },
      "execution_count": 140,
      "outputs": []
    },
    {
      "cell_type": "code",
      "source": [
        "datos_persona_norm = np.concatenate([[1], datos_persona_norm])"
      ],
      "metadata": {
        "id": "YSCRR4SzCXvw"
      },
      "execution_count": 141,
      "outputs": []
    },
    {
      "cell_type": "code",
      "source": [
        "probabilidad_diagnostico = sigmoid(np.dot(datos_persona_norm, theta))\n",
        "print('Una persona con los siguientes datos {} tiene una probabilidad de ser diagnosticada con trastorno de pánico: {:.2f}'.format(datos_persona, probabilidad_diagnostico))"
      ],
      "metadata": {
        "colab": {
          "base_uri": "https://localhost:8080/"
        },
        "id": "J-yJDAW1Ca0F",
        "outputId": "dc1fbf4d-d2f5-4c79-b9d3-dee2d5720955"
      },
      "execution_count": 142,
      "outputs": [
        {
          "output_type": "stream",
          "name": "stdout",
          "text": [
            "Una persona con los siguientes datos [56, 2, 1, 1, 2, 1, 2, 1, 2, 3, 2, 2, 2, 3, 1] tiene una probabilidad de ser diagnosticada con trastorno de pánico: 0.00\n"
          ]
        }
      ]
    },
    {
      "cell_type": "code",
      "source": [
        "from sklearn.svm import SVC\n",
        "\n",
        "classifier =  SVC()\n",
        "\n",
        "classifier.fit(X_train, y_train)\n",
        "\n",
        "print(classifier.score(X_test, y_test))"
      ],
      "metadata": {
        "colab": {
          "base_uri": "https://localhost:8080/"
        },
        "id": "kg1kpB81FxGu",
        "outputId": "8a089b92-5d47-4275-deef-231edfa7c935"
      },
      "execution_count": 143,
      "outputs": [
        {
          "output_type": "stream",
          "name": "stdout",
          "text": [
            "0.95725\n"
          ]
        }
      ]
    }
  ]
}